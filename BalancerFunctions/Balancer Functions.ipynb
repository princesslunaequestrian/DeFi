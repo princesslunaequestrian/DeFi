{
 "cells": [
  {
   "cell_type": "markdown",
   "id": "1de5d4f8",
   "metadata": {},
   "source": [
    "# Balancer v2 Stable Pool Trade Functions"
   ]
  },
  {
   "cell_type": "markdown",
   "id": "932630dc",
   "metadata": {},
   "source": [
    "Information taken from\n",
    "https://github.com/balancer-labs/balancer-v2-monorepo/blob/master/pkg/pool-stable/contracts/StableMath.sol\n",
    "\n",
    "Python functions will be implemented in future"
   ]
  },
  {
   "cell_type": "code",
   "execution_count": 1,
   "id": "20d374fc",
   "metadata": {},
   "outputs": [],
   "source": [
    "#imports\n",
    "\n",
    "import numpy as np"
   ]
  },
  {
   "cell_type": "markdown",
   "id": "c4009c34",
   "metadata": {},
   "source": [
    "### calculate-Invariant\n",
    "This function calculates current pool invariant based on Curve's invariant formula\n",
    "\n",
    "$$\n",
    "An^n \\sum{x_i} + D = ADn^n + \\frac{D^{n+1}}{n^n\\prod{x_i}},\n",
    "$$\n",
    "\n",
    "where $A$ is an amplification coefficient, found as follows:\n",
    "\n",
    "$$\n",
    "\\chi = \\frac{A\\prod{x_i}}{(D/n)^n},\n",
    "$$\n",
    "\n",
    "$\\chi$ is a dynamic leverage.\n",
    "\n",
    "According to Curve, when $\\chi \\rightarrow \\infty$, the formula tends to constant-sum invariant, and when $\\chi = 0$, it represents constant-product invariant. Here A is a balance parameter of portfolio.\n",
    "\n",
    "Rewriting in terms of A, we receive the formula that is used in StableMath for Balancer:\n",
    "\n",
    "\n",
    "* $D$ - invariant\n",
    "\n",
    "* $A$ - amp. coefficient\n",
    "\n",
    "* $S$ - sum of balances\n",
    "\n",
    "* $P$ - product of balances\n",
    "\n",
    "* $n$ - number of tokens\n",
    "\n",
    "$$\n",
    "An^n\\sum{x_i} + D = ADn^n + \\frac{D^{n+1}}{n^n\\prod{x_i}}\n",
    "$$\n",
    "\n",
    "In Balancer, this equation is solved for D via Newton-Raphson method"
   ]
  },
  {
   "cell_type": "markdown",
   "id": "d7aadf08",
   "metadata": {},
   "source": [
    "### get-Token-Balance-Given-Invariant-and-All-Other-Token-Balances\n",
    "Calculates the balance of a token $t$ given the invariant and all other tokens balances\n",
    "\n",
    "This is also solved using Newton-Raphson method.\n",
    "Math is to be added."
   ]
  },
  {
   "cell_type": "markdown",
   "id": "774e08d9",
   "metadata": {},
   "source": [
    "### calc-Out-Given-In\n",
    "Calculates how many tokens are retreived from pool given amount of tokens inserted in pool.\n",
    "\n",
    "First, we calculate current invariant $D$ given $A$ and balances of tokens using **calculate-Invariant**\n",
    "\n",
    "Final formula for amount of tokens $y$ retreived from the pool given amount $x$ of tokens injected into the pool:\n",
    "\n",
    "$$\n",
    "y^2 + (\\sum\\limits_{t\\neq y}{x_t} - \\frac{D}{An^n} - D)y - \\frac{D^{n+1}}{An^{2n}P} = 0\n",
    "$$"
   ]
  },
  {
   "cell_type": "markdown",
   "id": "665a64b7",
   "metadata": {},
   "source": [
    "### calc-In-Given-Out\n",
    "Calculates how many tokens ($x$) we need to inject into the pool given the amount of tokens we want to retreive from the pool.\n",
    "\n",
    "\n",
    "$$\n",
    "x^2 + (\\sum\\limits_{t\\neq x}{x_t}-\\frac{D}{An^n} - D)x - \\frac{D^{n+1}}{An^{2n}P} = 0\n",
    "$$"
   ]
  },
  {
   "cell_type": "markdown",
   "id": "9f08b9ca",
   "metadata": {},
   "source": [
    "### calc-BPT-Out-Given-Exact-Tokens-In\n",
    "Calculates amount of BP tokens minted given amount of tokens $a_t$ injected into the pool\n",
    "\n",
    "Firstly, sum of balances $b_t$ is calculated:\n",
    "\n",
    "$$\n",
    "S = \\sum\\limits_{t}{b_t}\n",
    "$$\n",
    "\n",
    "Weight of balance of token $t$ is found as follows:\n",
    "\n",
    "$$\n",
    "w_t = \\frac{b_t}{S}\n",
    "$$\n",
    "\n",
    "Secondly, weighted balance ratio and invariant ratio are calculated without concidering fees:\n",
    "\n",
    "$$\n",
    "BR_t = \\frac{b_t + a_t}{b_t};\\\\\n",
    "IR = \\sum\\limits_{t}{BR_t\\cdot{w_t}}\n",
    "$$\n",
    "\n",
    "$IR$ shows how much the invariant has increased relatively to the old invariant if we concider no fees on the amount of the token injected into the pool.\n",
    "\n",
    "Then, real amounts of token *in* ($a_t^i$) are calculated, taking into account the fee on the percentage excess. (As if the trader injected $a_t^i$ tokens without fees).\n",
    "\n",
    "A check is performed if the balance ratio of a token is greater than the ideal ratio to decide whether to charge fees or not:\n",
    "\n",
    "$$\n",
    "BR_t > IR:\\\\\n",
    "n_t = b_t\\cdot{(IR-1)}, \\hspace{10mm} t_t = a_t^i-n_t^i\\\\\n",
    "a_t^i = n_t+(t_t\\cdot(1-swapfee))\\\\\n",
    "BR_t < IR:\\\\\n",
    "a_t^i = a_t\n",
    "$$\n",
    "\n",
    "Here, $n_t$ is non-taxable amount in, $t_t$ - taxable amount in, $a_t^i$ - real amount in concidering fees, $a_t$ - initial amount in without concidering fees. Underscore $_t$ stands for token $t$.\n",
    "\n",
    "After that balances are recalculated:\n",
    "\n",
    "$$\n",
    "b_t^{new} = b_t + a_t^i\n",
    "$$\n",
    "\n",
    "Then, current and new invariants are calculated using the **calculate-Invariant** function, based on old and new balances, respectively, and invariant ratio:\n",
    "\n",
    "$$\n",
    "IR = \\frac{D^{new}}{D}\n",
    "$$\n",
    "\n",
    "And if $IR < 1$ (e.g. invariant $D$ didn't increase), no BP tokens are minted and return is 0. Else, BP tokens are minted:\n",
    "\n",
    "$$\n",
    "m = BPT_{TotalSupply}\\cdot{(IR - 1)}\n",
    "$$"
   ]
  },
  {
   "cell_type": "markdown",
   "id": "6990ba3e",
   "metadata": {},
   "source": [
    "### calc-Token-In-Given-Exact-BPT-Out\n",
    "Calculates amount of token $t$ needed to be injected into the pool to receive back exact given amount of BP tokens $o$.\n",
    "\n",
    "Firstly, old and new invariants are calculated based on old BPT balance and new:\n",
    "\n",
    "$$\n",
    "D^{new} = \\frac{(BPT_{TotalSupply} + o)}{BPT_{TotalSupply}}\\cdot{D}\n",
    "$$\n",
    "\n",
    "Secondly, we calculate amount of token $t$ ijected into the pool wihout fees simply by recalculating balances with new invariant using **get-Token-Balance-Given-Invariant-and-All-Other-Token-Balances**\n",
    "\n",
    "$$\n",
    "a_t = b_t^{new} - b_t\n",
    "$$\n",
    "\n",
    "Then, we calculate the sum of old balances to determine current weights of each token:\n",
    "\n",
    "$$\n",
    "S = \\sum\\limits_{t}{b_t}\\\\\n",
    "w_t = \\frac{b_t}{S}\n",
    "$$\n",
    "\n",
    "\n",
    "After that, we calculate amount of taxable percentage, taxable amount and non-taxable amount of token $t$:\n",
    "\n",
    "$$\n",
    "\\% = 1 - w_t;\\\\\n",
    "t_t = a_t\\cdot{\\%};\\\\\n",
    "n_t = a_t - t_t.\n",
    "$$\n",
    "\n",
    "So, for $o$ tokens to be minted, we need to inject\n",
    "\n",
    "$$\n",
    "n_t + \\frac{t_t}{1 - swapfee}\n",
    "$$\n",
    "\n",
    "of token $t$."
   ]
  }
 ],
 "metadata": {
  "kernelspec": {
   "display_name": "Python 3",
   "language": "python",
   "name": "python3"
  },
  "language_info": {
   "codemirror_mode": {
    "name": "ipython",
    "version": 3
   },
   "file_extension": ".py",
   "mimetype": "text/x-python",
   "name": "python",
   "nbconvert_exporter": "python",
   "pygments_lexer": "ipython3",
   "version": "3.9.5"
  }
 },
 "nbformat": 4,
 "nbformat_minor": 5
}
