{
 "cells": [
  {
   "cell_type": "code",
   "execution_count": 14,
   "metadata": {},
   "outputs": [],
   "source": [
    "from Vaults_lib import *\n",
    "import pprint"
   ]
  },
  {
   "cell_type": "code",
   "execution_count": 15,
   "metadata": {},
   "outputs": [
    {
     "name": "stdout",
     "output_type": "stream",
     "text": [
      "Заголовки =  ['Block', 'Date', 'MIM Price', 'MIM TVL', 'FRAX Price', 'FRAX TVL', 'USDN Price', 'USDN TVL', 'alUSD Price', 'alUSD TVL', 'mUSD Price', 'mUSD TVL']\n",
      "Число дней Price=  60\n",
      "tvl[ 20 ]=  ['13197959', 580645.0, 26432542.0, 304884403.0, 39206455.0, 201548.0]\n",
      "tvl[end]=  ['13449938', 114353850.0, 27877111.0, 273165481.0, 28480078.0, 1347648.0]\n",
      "tvl change  1  =  178797.8016903616  %  за год \n",
      "tvl change  2  =  49.86918066752717  %  за год \n",
      "tvl change  3  =  -94.9327549727101  %  за год \n",
      "tvl change  4  =  -249.648151369462  %  за год \n",
      "tvl change  5  =  5188.919016809891  %  за год \n",
      "Vault 1 = USDP, Vault 2 = USDN, Vault 3 = IronBank, Vault 4= sUSD \n",
      "Profit of Vault   1  =  26.923843700159352  % per year\n",
      "Profit of Vault   2  =  15.396414533601817  % per year\n",
      "Profit of Vault   3  =  16.04878274553357  % per year\n",
      "Profit of Vault   4  =  13.559342344933434  % per year\n",
      "Profit of Vault   5  =  5.881433381433317  % per year\n",
      "Указаны проценты в пересчете на 1 год\n"
     ]
    }
   ],
   "source": [
    "# Collect TVL and prices of TVL\n",
    "import csv\n",
    "n=5 # number of vaults - don't change!!!\n",
    "\n",
    "with open(\"vaultstvl5.csv\", encoding='utf-8') as r_file:\n",
    "    \n",
    "    file_reader = csv.reader(r_file, delimiter = \",\")\n",
    "    counter=0\n",
    "    price=[]\n",
    "    tvl=[]\n",
    "    \n",
    "    for row in file_reader:\n",
    "        if counter==0:\n",
    "            counter = 1\n",
    "            print('Заголовки = ',row)\n",
    "        else:\n",
    "            #print('row = ', row)\n",
    "            price.append([0]*(n+1))\n",
    "            tvl.append([0]*(n+1))\n",
    "            #print('counter= ', counter)\n",
    "            for i in range(0,n+1,1):\n",
    "                #print('i=', i)\n",
    "                if i==0:\n",
    "                    price[counter-1][0]=row[0]\n",
    "                    tvl[counter-1][0]=row[0]     \n",
    "                else:\n",
    "                    #print('row 2= ', row)\n",
    "                    #print('i in else= ',i)\n",
    "                    price[counter-1][i]=float(row[2*i])#float(row[0])\n",
    "                    tvl[counter-1][i]=float(row[2*i+1])\n",
    "            counter=counter+1\n",
    "            #print('counter= ', counter)\n",
    "                         \n",
    "#pp.pprint(price)\n",
    "#pp.pprint(tvl) \n",
    "print('Число дней Price= ',len(price))\n",
    "#print('Число дней TVL = ',len(tvl))\n",
    "da=20\n",
    "print('tvl[',da,']= ',tvl[da])\n",
    "end = len(tvl)\n",
    "print('tvl[end]= ',tvl[end-1])\n",
    "for i in range(1,n+1):\n",
    "    print('tvl change ',i,' = ',(tvl[end-1][i]-tvl[da][i])/tvl[da][i]*100/(len(price)-da)*365,' %  за год ')\n",
    "print('Vault 1 = USDP, Vault 2 = USDN, Vault 3 = IronBank, Vault 4= sUSD ' )\n",
    "for i in range(1,n+1):\n",
    "    print('Profit of Vault  ',i,' = ',(price[end-1][i]-price[da][i])/price[da][i]*100/(len(price)-da)*365,' % per year')\n",
    "print(\"Указаны проценты в пересчете на 1 год\")"
   ]
  },
  {
   "cell_type": "code",
   "execution_count": 16,
   "metadata": {},
   "outputs": [
    {
     "name": "stdout",
     "output_type": "stream",
     "text": [
      "60  days total profit Strategy 1 (Price Velosity) USD 280759\n",
      "APR is 11.39 % per year\n",
      "60  days total profit Strategy 2 (TVL Velosity) USD 494883\n",
      "APR is 20.07 % per year\n",
      "60  days total profit Strategy 3 (TVL) USD 434689\n",
      "APR is 17.63 %\n"
     ]
    }
   ],
   "source": [
    "# Preparing plot layout - initiate params\n",
    "\n",
    "total_funds=15000000# Amount of money\n",
    "delta=1 # Change Parametr Delta This !!!\n",
    "\n",
    "param1=0\n",
    "param2=0\n",
    "param3=0\n",
    "#-------------------\n",
    "x=[]#steps\n",
    "tot_profit1=[]\n",
    "tot_profit2=[]\n",
    "tot_profit3=[]\n",
    "tot_pr1=0\n",
    "tot_pr2=0\n",
    "tot_pr3=0\n",
    "funds11=[]\n",
    "funds12=[]\n",
    "funds13=[]\n",
    "funds14=[]\n",
    "funds15=[]\n",
    "funds16=[]\n",
    "funds21=[]\n",
    "funds22=[]\n",
    "funds23=[]\n",
    "funds24=[]\n",
    "funds25=[]\n",
    "funds26=[]\n",
    "funds31=[]\n",
    "funds32=[]\n",
    "funds33=[]\n",
    "funds34=[]\n",
    "funds35=[]\n",
    "funds36=[]\n",
    "pr_f11=[]\n",
    "pr_f12=[]\n",
    "pr_f13=[]\n",
    "pr_f14=[]\n",
    "pr_f15=[]\n",
    "pr_f16=[]\n",
    "pr_f21=[]\n",
    "pr_f22=[]\n",
    "pr_f23=[]\n",
    "pr_f24=[]\n",
    "pr_f25=[]\n",
    "pr_f26=[]\n",
    "pr_f31=[]\n",
    "pr_f32=[]\n",
    "pr_f33=[]\n",
    "pr_f34=[]\n",
    "pr_f35=[]\n",
    "pr_f36=[]\n",
    "profit_day1=[]\n",
    "profit_day2=[]\n",
    "profit_day3=[]\n",
    "\n",
    "for i in range(0,len(price)-delta, delta):\n",
    "\n",
    "    f1=0\n",
    "    f2=0\n",
    "    f3=0\n",
    "    #print('steps i= ', i)\n",
    "    x.append(i)\n",
    "    funds1 = calc_shares_price_velosity(n, price, i, total_funds, delta, param1) #Strategy 1 - Price Velosity\n",
    "    funds2 = calc_shares_tvl_velosity(n, tvl, i, total_funds, delta, param2)# Strategy 2 - TVL Velosity\n",
    "    funds3= calc_shares_tvl(n, tvl, i, total_funds, delta, param3)# Strategy 3 - TVL\n",
    "    funds11.append(funds1[0])\n",
    "    funds12.append(funds1[1])\n",
    "    funds13.append(funds1[2])\n",
    "    funds14.append(funds1[3])\n",
    "    funds15.append(funds1[4])\n",
    "    #funds16.append(funds1[5])# comment this\n",
    "    \n",
    "    tot_f1=0\n",
    "    for k in range(0,n):\n",
    "        tot_f1=tot_f1 + funds1[k]\n",
    "    pr_f11.append(funds1[0]/tot_f1*100)\n",
    "    pr_f12.append(funds1[1]/tot_f1*100)\n",
    "    pr_f13.append(funds1[2]/tot_f1*100)\n",
    "    pr_f14.append(funds1[3]/tot_f1*100)\n",
    "    pr_f15.append(funds1[4]/tot_f1*100)\n",
    "    #pr_f16.append(funds1[5]/tot_f1*100) # comment this\n",
    "        \n",
    "    funds21.append(funds2[0])\n",
    "    funds22.append(funds2[1])\n",
    "    funds23.append(funds2[2])\n",
    "    funds24.append(funds2[3])\n",
    "    funds25.append(funds2[4])\n",
    "    #funds26.append(funds2[5])# comment this\n",
    "    tot_f2=0\n",
    "    for k in range(0,n):\n",
    "        tot_f2=tot_f2 + funds2[k]\n",
    "    pr_f21.append(funds2[0]/tot_f2*100)\n",
    "    pr_f22.append(funds2[1]/tot_f2*100)\n",
    "    pr_f23.append(funds2[2]/tot_f2*100)\n",
    "    pr_f24.append(funds2[3]/tot_f2*100)\n",
    "    pr_f25.append(funds2[4]/tot_f2*100)\n",
    "    #pr_f26.append(funds2[5]/tot_f2*100)# comment this\n",
    "    \n",
    "    \n",
    "    \n",
    "    funds31.append(funds3[0])\n",
    "    funds32.append(funds3[1])\n",
    "    funds33.append(funds3[2])\n",
    "    funds34.append(funds3[3])\n",
    "    funds35.append(funds3[4])\n",
    "    #funds36.append(funds3[5])# comment this\n",
    "    tot_f3=0\n",
    "    for k in range(0,n):\n",
    "        tot_f3=tot_f3 + funds3[k]\n",
    "    pr_f31.append(funds3[0]/tot_f3*100)\n",
    "    pr_f32.append(funds3[1]/tot_f3*100)\n",
    "    pr_f33.append(funds3[2]/tot_f3*100)\n",
    "    pr_f34.append(funds3[3]/tot_f3*100)\n",
    "    pr_f35.append(funds3[4]/tot_f3*100)\n",
    "    #pr_f36.append(funds3[5]/tot_f3*100)# comment this\n",
    "    \n",
    "    #funds2 =  [12540558.371716868, 416968.1746170347, 42473.45366609666, 0.0, 0.0]\n",
    "    #f=calc_profit_step1(n,price, funds2, i, delta)\n",
    "    #print('f= ',f)\n",
    "    \n",
    "    profit_day1.append(calc_profit_step(n,price, funds1, i, delta))\n",
    "    profit_day2.append(calc_profit_step(n,price, funds2, i, delta))\n",
    "    profit_day3.append(calc_profit_step(n,price, funds3, i, delta))\n",
    "    \n",
    "    tot_pr1=tot_pr1+calc_profit_step(n,price, funds1, i, delta)\n",
    "    tot_pr2=tot_pr2+calc_profit_step(n,price, funds2, i, delta)\n",
    "    #print('f2= ',calc_profit_step(n,price, funds2, i, delta))\n",
    "    tot_pr3=tot_pr3+calc_profit_step(n,price, funds3, i, delta)  \n",
    "    #print('f3= ',calc_profit_step(n,price, funds3, i, delta))\n",
    "    tot_profit1.append(tot_pr1)\n",
    "    tot_profit2.append(tot_pr2)\n",
    "    tot_profit3.append(tot_pr3)\n",
    "#print('funds1 = ', funds1)   \n",
    "print(len(tvl),' days total profit Strategy 1 (Price Velosity) USD', round(tot_pr1) )\n",
    "print('APR is', round(tot_pr1/len(tvl)*365/total_funds*100, 2),'% per year' )\n",
    "print(len(tvl),' days total profit Strategy 2 (TVL Velosity) USD', round(tot_pr2) )\n",
    "print('APR is', round(tot_pr2/len(tvl)*365/total_funds*100, 2),'% per year' )\n",
    "print(len(tvl),' days total profit Strategy 3 (TVL) USD', round(tot_pr3) )\n",
    "print('APR is', round(tot_pr3/len(tvl)*365/total_funds*100, 2),'%' )"
   ]
  },
  {
   "cell_type": "code",
   "execution_count": 17,
   "metadata": {},
   "outputs": [],
   "source": [
    "pr11=[]\n",
    "pr22=[]\n",
    "pr33=[]\n",
    "z=[]\n",
    "for delta in range (1,len(tvl)):\n",
    "    pr1=0\n",
    "    pr2=0\n",
    "    pr3=0\n",
    "    z.append(delta)\n",
    "    \n",
    "    for i in range(0,len(price)-delta, delta):\n",
    "        \n",
    "        funds1 = calc_shares_price_velosity(n, price, i, total_funds, delta, param1) #Strategy 1 - Price Velosity\n",
    "        funds2 = calc_shares_tvl_velosity(n, tvl, i, total_funds, delta, param2)# Strategy 2 - TVL Velosity\n",
    "        funds3 = calc_shares_tvl(n, tvl, i, total_funds, delta, param3)# Strategy 3 - TVL\n",
    "        \n",
    "        pr1 = pr1+calc_profit_step(n,price, funds1, i, delta)\n",
    "        pr2 = pr2+calc_profit_step(n,price, funds2, i, delta)\n",
    "        pr3 = pr3+calc_profit_step(n,price, funds3, i, delta)\n",
    "    pr11.append(pr1/total_funds/len(tvl)*365*100)    \n",
    "    pr22.append(pr2/total_funds/len(tvl)*365*100)\n",
    "    pr33.append(pr3/total_funds/len(tvl)*365*100)"
   ]
  },
  {
   "cell_type": "code",
   "execution_count": 18,
   "metadata": {},
   "outputs": [
    {
     "data": {
      "application/vnd.plotly.v1+json": {
       "config": {
        "plotlyServerURL": "https://plot.ly"
       },
       "data": [
        {
         "line": {
          "color": "red"
         },
         "name": "Strategy 1 - Price Velosity vs Delta",
         "type": "scatter",
         "x": [
          1,
          2,
          3,
          4,
          5,
          6,
          7,
          8,
          9,
          10,
          11,
          12,
          13,
          14,
          15,
          16,
          17,
          18,
          19,
          20,
          21,
          22,
          23,
          24,
          25,
          26,
          27,
          28,
          29,
          30,
          31,
          32,
          33,
          34,
          35,
          36,
          37,
          38,
          39,
          40,
          41,
          42,
          43,
          44,
          45,
          46,
          47,
          48,
          49,
          50,
          51,
          52,
          53,
          54,
          55,
          56,
          57,
          58,
          59
         ],
         "xaxis": "x",
         "y": [
          11.386349256837761,
          12.341639103583466,
          12.584227171202938,
          13.799799107291635,
          13.885347913239574,
          13.238207092127615,
          13.193935760707124,
          14.234570235619968,
          13.241225074538738,
          16.53383547409258,
          18.52883048299892,
          131.93129468371686,
          133.18406627304626,
          139.14673348092305,
          136.46849710194618,
          136.61906525959193,
          137.91325275518375,
          139.6494772638564,
          140.74779090476395,
          135.1897670522666,
          135.63163612972127,
          136.23863197476953,
          136.9325192171277,
          137.87876647005737,
          139.01538939817942,
          140.27947854387662,
          141.50127354288836,
          137.10395170643594,
          137.95507028379575,
          128.09066666666664,
          128.77199999999996,
          129.0761666666667,
          129.4898333333333,
          129.5871666666666,
          129.73316666666665,
          129.79399999999995,
          130.13466666666667,
          130.25633333333332,
          130.64566666666667,
          130.82816666666668,
          130.87683333333334,
          131.1688333333333,
          131.4,
          131.4365,
          131.88666666666663,
          132.09349999999995,
          132.26383333333328,
          132.6531666666667,
          132.8356666666667,
          133.29800000000003,
          133.51699999999994,
          133.76033333333334,
          133.9428333333333,
          134.73366666666666,
          134.87966666666665,
          135.02566666666667,
          135.37850000000003,
          135.79216666666665,
          135.91383333333332
         ],
         "yaxis": "y"
        },
        {
         "line": {
          "color": "green"
         },
         "name": "Strategy 2 - TVL Velosity vs Delta",
         "type": "scatter",
         "x": [
          1,
          2,
          3,
          4,
          5,
          6,
          7,
          8,
          9,
          10,
          11,
          12,
          13,
          14,
          15,
          16,
          17,
          18,
          19,
          20,
          21,
          22,
          23,
          24,
          25,
          26,
          27,
          28,
          29,
          30,
          31,
          32,
          33,
          34,
          35,
          36,
          37,
          38,
          39,
          40,
          41,
          42,
          43,
          44,
          45,
          46,
          47,
          48,
          49,
          50,
          51,
          52,
          53,
          54,
          55,
          56,
          57,
          58,
          59
         ],
         "xaxis": "x",
         "y": [
          20.07025355462148,
          20.24200718176708,
          16.704849586691196,
          19.15540942883292,
          15.428259528826066,
          15.59834638014518,
          17.11926055121295,
          14.972589484619036,
          37.99958994574976,
          26.152299411529967,
          37.3713136005129,
          17.15958909862887,
          20.46772726507693,
          16.080178591247865,
          11.79509179675944,
          13.534803899250097,
          16.077718794219344,
          37.3974476112302,
          32.17271249093529,
          27.360709948867008,
          31.272174263062364,
          33.316523989943285,
          40.73762064946117,
          231.86620911519026,
          247.51077106741835,
          216.58785123315357,
          72.63341145161758,
          65.24768170403668,
          63.235749423221264,
          53.77492792352625,
          94.25205012782271,
          100.26705277957169,
          324.6167267089219,
          335.0237190440155,
          390.0949483048459,
          421.3691901924335,
          437.44501718393326,
          425.78126979807536,
          458.263570088137,
          466.0239699376837,
          501.56079335713065,
          518.7636725414269,
          524.7599760076633,
          524.1192720775655,
          527.067588766954,
          523.9136455393234,
          513.7312800035409,
          575.6023847601493,
          573.9487232411273,
          582.8985394826608,
          581.0440797134698,
          587.1396343386995,
          580.8190239507458,
          582.0145817627217,
          584.4641949759666,
          574.8239499282522,
          572.6206597118122,
          609.110091404612,
          620.8206625901266
         ],
         "yaxis": "y"
        },
        {
         "line": {
          "color": "grey"
         },
         "name": "Strategy 3 - TVL vs Delta",
         "type": "scatter",
         "x": [
          1,
          2,
          3,
          4,
          5,
          6,
          7,
          8,
          9,
          10,
          11,
          12,
          13,
          14,
          15,
          16,
          17,
          18,
          19,
          20,
          21,
          22,
          23,
          24,
          25,
          26,
          27,
          28,
          29,
          30,
          31,
          32,
          33,
          34,
          35,
          36,
          37,
          38,
          39,
          40,
          41,
          42,
          43,
          44,
          45,
          46,
          47,
          48,
          49,
          50,
          51,
          52,
          53,
          54,
          55,
          56,
          57,
          58,
          59
         ],
         "xaxis": "x",
         "y": [
          17.629039473817933,
          17.662104137109665,
          17.034382366111515,
          16.95607640729638,
          16.732142487799884,
          16.392125656176475,
          16.661022570309836,
          16.861525011827094,
          16.136214007550112,
          14.414847352549549,
          16.383275733532052,
          13.929421408314067,
          15.160022981577045,
          16.570532259417035,
          12.620994969575971,
          13.638401523703973,
          14.643303072358355,
          15.901797565262186,
          16.671479148479317,
          11.581243325907506,
          11.968830059664775,
          12.337065296322407,
          13.089688200316088,
          13.875405353148334,
          14.5092178069135,
          14.982941571066252,
          15.82989732228148,
          16.219269210236384,
          16.836230711809367,
          8.534424004331546,
          8.630136322269557,
          9.176536922637812,
          9.601279827874896,
          9.785518306854762,
          9.97874366740541,
          10.162982146385275,
          10.450185908867327,
          10.634490926336971,
          11.016440799871875,
          11.47703699732164,
          11.624202738127222,
          11.848186000280597,
          12.066746240427866,
          12.204925099662766,
          12.582483173263437,
          12.997019750968128,
          13.227384388182738,
          13.52609527621047,
          13.664340673935147,
          14.220416932987703,
          14.548554564730361,
          14.696119536474722,
          15.110656114179418,
          15.766946679727244,
          15.99724477845218,
          16.187203550959943,
          16.505120041608514,
          16.855544304419226,
          16.993789702143903
         ],
         "yaxis": "y"
        }
       ],
       "layout": {
        "template": {
         "data": {
          "bar": [
           {
            "error_x": {
             "color": "#2a3f5f"
            },
            "error_y": {
             "color": "#2a3f5f"
            },
            "marker": {
             "line": {
              "color": "#E5ECF6",
              "width": 0.5
             },
             "pattern": {
              "fillmode": "overlay",
              "size": 10,
              "solidity": 0.2
             }
            },
            "type": "bar"
           }
          ],
          "barpolar": [
           {
            "marker": {
             "line": {
              "color": "#E5ECF6",
              "width": 0.5
             },
             "pattern": {
              "fillmode": "overlay",
              "size": 10,
              "solidity": 0.2
             }
            },
            "type": "barpolar"
           }
          ],
          "carpet": [
           {
            "aaxis": {
             "endlinecolor": "#2a3f5f",
             "gridcolor": "white",
             "linecolor": "white",
             "minorgridcolor": "white",
             "startlinecolor": "#2a3f5f"
            },
            "baxis": {
             "endlinecolor": "#2a3f5f",
             "gridcolor": "white",
             "linecolor": "white",
             "minorgridcolor": "white",
             "startlinecolor": "#2a3f5f"
            },
            "type": "carpet"
           }
          ],
          "choropleth": [
           {
            "colorbar": {
             "outlinewidth": 0,
             "ticks": ""
            },
            "type": "choropleth"
           }
          ],
          "contour": [
           {
            "colorbar": {
             "outlinewidth": 0,
             "ticks": ""
            },
            "colorscale": [
             [
              0,
              "#0d0887"
             ],
             [
              0.1111111111111111,
              "#46039f"
             ],
             [
              0.2222222222222222,
              "#7201a8"
             ],
             [
              0.3333333333333333,
              "#9c179e"
             ],
             [
              0.4444444444444444,
              "#bd3786"
             ],
             [
              0.5555555555555556,
              "#d8576b"
             ],
             [
              0.6666666666666666,
              "#ed7953"
             ],
             [
              0.7777777777777778,
              "#fb9f3a"
             ],
             [
              0.8888888888888888,
              "#fdca26"
             ],
             [
              1,
              "#f0f921"
             ]
            ],
            "type": "contour"
           }
          ],
          "contourcarpet": [
           {
            "colorbar": {
             "outlinewidth": 0,
             "ticks": ""
            },
            "type": "contourcarpet"
           }
          ],
          "heatmap": [
           {
            "colorbar": {
             "outlinewidth": 0,
             "ticks": ""
            },
            "colorscale": [
             [
              0,
              "#0d0887"
             ],
             [
              0.1111111111111111,
              "#46039f"
             ],
             [
              0.2222222222222222,
              "#7201a8"
             ],
             [
              0.3333333333333333,
              "#9c179e"
             ],
             [
              0.4444444444444444,
              "#bd3786"
             ],
             [
              0.5555555555555556,
              "#d8576b"
             ],
             [
              0.6666666666666666,
              "#ed7953"
             ],
             [
              0.7777777777777778,
              "#fb9f3a"
             ],
             [
              0.8888888888888888,
              "#fdca26"
             ],
             [
              1,
              "#f0f921"
             ]
            ],
            "type": "heatmap"
           }
          ],
          "heatmapgl": [
           {
            "colorbar": {
             "outlinewidth": 0,
             "ticks": ""
            },
            "colorscale": [
             [
              0,
              "#0d0887"
             ],
             [
              0.1111111111111111,
              "#46039f"
             ],
             [
              0.2222222222222222,
              "#7201a8"
             ],
             [
              0.3333333333333333,
              "#9c179e"
             ],
             [
              0.4444444444444444,
              "#bd3786"
             ],
             [
              0.5555555555555556,
              "#d8576b"
             ],
             [
              0.6666666666666666,
              "#ed7953"
             ],
             [
              0.7777777777777778,
              "#fb9f3a"
             ],
             [
              0.8888888888888888,
              "#fdca26"
             ],
             [
              1,
              "#f0f921"
             ]
            ],
            "type": "heatmapgl"
           }
          ],
          "histogram": [
           {
            "marker": {
             "pattern": {
              "fillmode": "overlay",
              "size": 10,
              "solidity": 0.2
             }
            },
            "type": "histogram"
           }
          ],
          "histogram2d": [
           {
            "colorbar": {
             "outlinewidth": 0,
             "ticks": ""
            },
            "colorscale": [
             [
              0,
              "#0d0887"
             ],
             [
              0.1111111111111111,
              "#46039f"
             ],
             [
              0.2222222222222222,
              "#7201a8"
             ],
             [
              0.3333333333333333,
              "#9c179e"
             ],
             [
              0.4444444444444444,
              "#bd3786"
             ],
             [
              0.5555555555555556,
              "#d8576b"
             ],
             [
              0.6666666666666666,
              "#ed7953"
             ],
             [
              0.7777777777777778,
              "#fb9f3a"
             ],
             [
              0.8888888888888888,
              "#fdca26"
             ],
             [
              1,
              "#f0f921"
             ]
            ],
            "type": "histogram2d"
           }
          ],
          "histogram2dcontour": [
           {
            "colorbar": {
             "outlinewidth": 0,
             "ticks": ""
            },
            "colorscale": [
             [
              0,
              "#0d0887"
             ],
             [
              0.1111111111111111,
              "#46039f"
             ],
             [
              0.2222222222222222,
              "#7201a8"
             ],
             [
              0.3333333333333333,
              "#9c179e"
             ],
             [
              0.4444444444444444,
              "#bd3786"
             ],
             [
              0.5555555555555556,
              "#d8576b"
             ],
             [
              0.6666666666666666,
              "#ed7953"
             ],
             [
              0.7777777777777778,
              "#fb9f3a"
             ],
             [
              0.8888888888888888,
              "#fdca26"
             ],
             [
              1,
              "#f0f921"
             ]
            ],
            "type": "histogram2dcontour"
           }
          ],
          "mesh3d": [
           {
            "colorbar": {
             "outlinewidth": 0,
             "ticks": ""
            },
            "type": "mesh3d"
           }
          ],
          "parcoords": [
           {
            "line": {
             "colorbar": {
              "outlinewidth": 0,
              "ticks": ""
             }
            },
            "type": "parcoords"
           }
          ],
          "pie": [
           {
            "automargin": true,
            "type": "pie"
           }
          ],
          "scatter": [
           {
            "marker": {
             "colorbar": {
              "outlinewidth": 0,
              "ticks": ""
             }
            },
            "type": "scatter"
           }
          ],
          "scatter3d": [
           {
            "line": {
             "colorbar": {
              "outlinewidth": 0,
              "ticks": ""
             }
            },
            "marker": {
             "colorbar": {
              "outlinewidth": 0,
              "ticks": ""
             }
            },
            "type": "scatter3d"
           }
          ],
          "scattercarpet": [
           {
            "marker": {
             "colorbar": {
              "outlinewidth": 0,
              "ticks": ""
             }
            },
            "type": "scattercarpet"
           }
          ],
          "scattergeo": [
           {
            "marker": {
             "colorbar": {
              "outlinewidth": 0,
              "ticks": ""
             }
            },
            "type": "scattergeo"
           }
          ],
          "scattergl": [
           {
            "marker": {
             "colorbar": {
              "outlinewidth": 0,
              "ticks": ""
             }
            },
            "type": "scattergl"
           }
          ],
          "scattermapbox": [
           {
            "marker": {
             "colorbar": {
              "outlinewidth": 0,
              "ticks": ""
             }
            },
            "type": "scattermapbox"
           }
          ],
          "scatterpolar": [
           {
            "marker": {
             "colorbar": {
              "outlinewidth": 0,
              "ticks": ""
             }
            },
            "type": "scatterpolar"
           }
          ],
          "scatterpolargl": [
           {
            "marker": {
             "colorbar": {
              "outlinewidth": 0,
              "ticks": ""
             }
            },
            "type": "scatterpolargl"
           }
          ],
          "scatterternary": [
           {
            "marker": {
             "colorbar": {
              "outlinewidth": 0,
              "ticks": ""
             }
            },
            "type": "scatterternary"
           }
          ],
          "surface": [
           {
            "colorbar": {
             "outlinewidth": 0,
             "ticks": ""
            },
            "colorscale": [
             [
              0,
              "#0d0887"
             ],
             [
              0.1111111111111111,
              "#46039f"
             ],
             [
              0.2222222222222222,
              "#7201a8"
             ],
             [
              0.3333333333333333,
              "#9c179e"
             ],
             [
              0.4444444444444444,
              "#bd3786"
             ],
             [
              0.5555555555555556,
              "#d8576b"
             ],
             [
              0.6666666666666666,
              "#ed7953"
             ],
             [
              0.7777777777777778,
              "#fb9f3a"
             ],
             [
              0.8888888888888888,
              "#fdca26"
             ],
             [
              1,
              "#f0f921"
             ]
            ],
            "type": "surface"
           }
          ],
          "table": [
           {
            "cells": {
             "fill": {
              "color": "#EBF0F8"
             },
             "line": {
              "color": "white"
             }
            },
            "header": {
             "fill": {
              "color": "#C8D4E3"
             },
             "line": {
              "color": "white"
             }
            },
            "type": "table"
           }
          ]
         },
         "layout": {
          "annotationdefaults": {
           "arrowcolor": "#2a3f5f",
           "arrowhead": 0,
           "arrowwidth": 1
          },
          "autotypenumbers": "strict",
          "coloraxis": {
           "colorbar": {
            "outlinewidth": 0,
            "ticks": ""
           }
          },
          "colorscale": {
           "diverging": [
            [
             0,
             "#8e0152"
            ],
            [
             0.1,
             "#c51b7d"
            ],
            [
             0.2,
             "#de77ae"
            ],
            [
             0.3,
             "#f1b6da"
            ],
            [
             0.4,
             "#fde0ef"
            ],
            [
             0.5,
             "#f7f7f7"
            ],
            [
             0.6,
             "#e6f5d0"
            ],
            [
             0.7,
             "#b8e186"
            ],
            [
             0.8,
             "#7fbc41"
            ],
            [
             0.9,
             "#4d9221"
            ],
            [
             1,
             "#276419"
            ]
           ],
           "sequential": [
            [
             0,
             "#0d0887"
            ],
            [
             0.1111111111111111,
             "#46039f"
            ],
            [
             0.2222222222222222,
             "#7201a8"
            ],
            [
             0.3333333333333333,
             "#9c179e"
            ],
            [
             0.4444444444444444,
             "#bd3786"
            ],
            [
             0.5555555555555556,
             "#d8576b"
            ],
            [
             0.6666666666666666,
             "#ed7953"
            ],
            [
             0.7777777777777778,
             "#fb9f3a"
            ],
            [
             0.8888888888888888,
             "#fdca26"
            ],
            [
             1,
             "#f0f921"
            ]
           ],
           "sequentialminus": [
            [
             0,
             "#0d0887"
            ],
            [
             0.1111111111111111,
             "#46039f"
            ],
            [
             0.2222222222222222,
             "#7201a8"
            ],
            [
             0.3333333333333333,
             "#9c179e"
            ],
            [
             0.4444444444444444,
             "#bd3786"
            ],
            [
             0.5555555555555556,
             "#d8576b"
            ],
            [
             0.6666666666666666,
             "#ed7953"
            ],
            [
             0.7777777777777778,
             "#fb9f3a"
            ],
            [
             0.8888888888888888,
             "#fdca26"
            ],
            [
             1,
             "#f0f921"
            ]
           ]
          },
          "colorway": [
           "#636efa",
           "#EF553B",
           "#00cc96",
           "#ab63fa",
           "#FFA15A",
           "#19d3f3",
           "#FF6692",
           "#B6E880",
           "#FF97FF",
           "#FECB52"
          ],
          "font": {
           "color": "#2a3f5f"
          },
          "geo": {
           "bgcolor": "white",
           "lakecolor": "white",
           "landcolor": "#E5ECF6",
           "showlakes": true,
           "showland": true,
           "subunitcolor": "white"
          },
          "hoverlabel": {
           "align": "left"
          },
          "hovermode": "closest",
          "mapbox": {
           "style": "light"
          },
          "paper_bgcolor": "white",
          "plot_bgcolor": "#E5ECF6",
          "polar": {
           "angularaxis": {
            "gridcolor": "white",
            "linecolor": "white",
            "ticks": ""
           },
           "bgcolor": "#E5ECF6",
           "radialaxis": {
            "gridcolor": "white",
            "linecolor": "white",
            "ticks": ""
           }
          },
          "scene": {
           "xaxis": {
            "backgroundcolor": "#E5ECF6",
            "gridcolor": "white",
            "gridwidth": 2,
            "linecolor": "white",
            "showbackground": true,
            "ticks": "",
            "zerolinecolor": "white"
           },
           "yaxis": {
            "backgroundcolor": "#E5ECF6",
            "gridcolor": "white",
            "gridwidth": 2,
            "linecolor": "white",
            "showbackground": true,
            "ticks": "",
            "zerolinecolor": "white"
           },
           "zaxis": {
            "backgroundcolor": "#E5ECF6",
            "gridcolor": "white",
            "gridwidth": 2,
            "linecolor": "white",
            "showbackground": true,
            "ticks": "",
            "zerolinecolor": "white"
           }
          },
          "shapedefaults": {
           "line": {
            "color": "#2a3f5f"
           }
          },
          "ternary": {
           "aaxis": {
            "gridcolor": "white",
            "linecolor": "white",
            "ticks": ""
           },
           "baxis": {
            "gridcolor": "white",
            "linecolor": "white",
            "ticks": ""
           },
           "bgcolor": "#E5ECF6",
           "caxis": {
            "gridcolor": "white",
            "linecolor": "white",
            "ticks": ""
           }
          },
          "title": {
           "x": 0.05
          },
          "xaxis": {
           "automargin": true,
           "gridcolor": "white",
           "linecolor": "white",
           "ticks": "",
           "title": {
            "standoff": 15
           },
           "zerolinecolor": "white",
           "zerolinewidth": 2
          },
          "yaxis": {
           "automargin": true,
           "gridcolor": "white",
           "linecolor": "white",
           "ticks": "",
           "title": {
            "standoff": 15
           },
           "zerolinecolor": "white",
           "zerolinewidth": 2
          }
         }
        },
        "title": {
         "text": "<b>Comparison of Profit of Strategies vs Delta in % APR per year no gas fee </b>"
        },
        "xaxis": {
         "anchor": "y",
         "domain": [
          0,
          0.94
         ],
         "title": {
          "text": "Step"
         }
        },
        "yaxis": {
         "anchor": "x",
         "domain": [
          0,
          1
         ]
        },
        "yaxis2": {
         "anchor": "x",
         "overlaying": "y",
         "side": "right"
        }
       }
      }
     },
     "metadata": {},
     "output_type": "display_data"
    }
   ],
   "source": [
    "fig = make_subplots(subplot_titles=('' ), specs=[[{\"secondary_y\": True}]])\n",
    "\n",
    "fig.add_trace(go.Scatter(x=z, y=pr11, line=dict(color='red'), name='Strategy 1 - Price Velosity vs Delta'), secondary_y=False)\n",
    "fig.add_trace(go.Scatter(x=z, y=pr22, line=dict(color='green'), name='Strategy 2 - TVL Velosity vs Delta'), secondary_y=False)\n",
    "fig.add_trace(go.Scatter(x=z, y=pr33, line=dict(color='grey'), name='Strategy 3 - TVL vs Delta'), secondary_y=False)\n",
    "\n",
    "\n",
    "fig.update_layout(title_text='<b>Comparison of Profit of Strategies vs Delta in % APR per year no gas fee </b>')\n",
    "fig.update_xaxes(title_text='Step')\n",
    "fig.show()"
   ]
  },
  {
   "cell_type": "code",
   "execution_count": 19,
   "metadata": {},
   "outputs": [],
   "source": [
    "#Each Vault as single\n",
    "def profit_vault_day(price, vault_number, step, total_funds):\n",
    "    return (price[step+1][vault_number]-price[step][vault_number])*total_funds\n",
    "#---------------\n",
    "delta = 1\n",
    "#---------------\n",
    "profit1=[]\n",
    "profit2=[]\n",
    "profit3=[]\n",
    "profit4=[]\n",
    "profit5=[]\n",
    "k=[]\n",
    "profit_fund1 =[]\n",
    "profit_fund2 =[]\n",
    "profit_fund3 =[]\n",
    "profit_fund4 =[]\n",
    "profit_fund5 =[]\n",
    "pf1=1\n",
    "pf2=1\n",
    "pf3=1\n",
    "pf4=1\n",
    "pf5=1\n",
    "for step in range(0,len(price)-delta, delta):\n",
    "    k.append(step)\n",
    "    profit1.append(profit_vault_day(price, 1, step, total_funds))\n",
    "    pf1=pf1+profit_vault_day(price, 1, step, total_funds)\n",
    "    profit_fund1.append(pf1)\n",
    "    profit2.append(profit_vault_day(price, 2, step, total_funds))\n",
    "    pf2=pf2+profit_vault_day(price, 2, step, total_funds)\n",
    "    profit_fund2.append(pf2)\n",
    "    profit3.append(profit_vault_day(price, 3, step, total_funds))\n",
    "    pf3=pf3+profit_vault_day(price, 3, step, total_funds)\n",
    "    profit_fund3.append(pf3)\n",
    "    profit4.append(profit_vault_day(price, 4, step, total_funds))\n",
    "    pf4=pf4+profit_vault_day(price, 4, step, total_funds)\n",
    "    profit_fund4.append(pf4)\n",
    "    profit5.append(profit_vault_day(price, 5, step, total_funds))\n",
    "    pf5=pf5+profit_vault_day(price, 5, step, total_funds)\n",
    "    profit_fund5.append(pf5)\n",
    "#print(profit_fund1)    "
   ]
  },
  {
   "cell_type": "code",
   "execution_count": 20,
   "metadata": {},
   "outputs": [
    {
     "data": {
      "application/vnd.plotly.v1+json": {
       "config": {
        "plotlyServerURL": "https://plot.ly"
       },
       "data": [
        {
         "line": {
          "color": "red"
         },
         "name": "MIM  Total",
         "type": "scatter",
         "x": [
          0,
          1,
          2,
          3,
          4,
          5,
          6,
          7,
          8,
          9,
          10,
          11,
          12,
          13,
          14,
          15,
          16,
          17,
          18,
          19,
          20,
          21,
          22,
          23,
          24,
          25,
          26,
          27,
          28,
          29,
          30,
          31,
          32,
          33,
          34,
          35,
          36,
          37,
          38,
          39,
          40,
          41,
          42,
          43,
          44,
          45,
          46,
          47,
          48,
          49,
          50,
          51,
          52,
          53,
          54,
          55,
          56,
          57,
          58
         ],
         "xaxis": "x",
         "y": [
          1,
          1,
          1,
          1,
          1,
          1,
          1,
          1,
          1,
          1,
          1,
          15028501,
          15028501,
          15028501,
          15028501,
          15028501,
          15030001,
          15030001,
          15030001,
          15048001.000000002,
          15049501.000000002,
          15049501.000000002,
          15064501,
          15064501,
          15066001,
          15066001,
          15066001,
          15235501.000000002,
          15237001.000000002,
          15237001.000000002,
          15237001.000000002,
          15237001.000000002,
          15247501,
          15253501,
          15264001.000000002,
          15265501.000000002,
          15274501,
          15282001,
          15291001.000000002,
          15298501.000000002,
          15298501.000000002,
          15307501,
          15321001.000000002,
          15321001.000000002,
          15331501,
          15343500.999999998,
          15355501,
          15366000.999999998,
          15382501,
          15390001,
          15405000.999999998,
          15420001,
          15429000.999999998,
          15441001,
          15451500.999999998,
          15462000.999999996,
          15471000.999999998,
          15483000.999999996,
          15492000.999999994
         ],
         "yaxis": "y2"
        },
        {
         "line": {
          "color": "green"
         },
         "name": "FRAX Total",
         "type": "scatter",
         "x": [
          0,
          1,
          2,
          3,
          4,
          5,
          6,
          7,
          8,
          9,
          10,
          11,
          12,
          13,
          14,
          15,
          16,
          17,
          18,
          19,
          20,
          21,
          22,
          23,
          24,
          25,
          26,
          27,
          28,
          29,
          30,
          31,
          32,
          33,
          34,
          35,
          36,
          37,
          38,
          39,
          40,
          41,
          42,
          43,
          44,
          45,
          46,
          47,
          48,
          49,
          50,
          51,
          52,
          53,
          54,
          55,
          56,
          57,
          58
         ],
         "xaxis": "x",
         "y": [
          1,
          12000.999999998678,
          12000.999999998678,
          15000.999999998347,
          24001.000000000684,
          24001.000000000684,
          27001.000000000353,
          34500.99999999953,
          40500.999999998865,
          40500.999999998865,
          40500.999999998865,
          58501.00000000022,
          58501.00000000022,
          58501.00000000022,
          76500.99999999824,
          76500.99999999824,
          76500.99999999824,
          93000.99999999975,
          93000.99999999975,
          108000.99999999811,
          109500.99999999795,
          109500.99999999795,
          126000.99999999946,
          126000.99999999946,
          126000.99999999946,
          126000.99999999946,
          154500.99999999965,
          154500.99999999965,
          154500.99999999965,
          154500.99999999965,
          154500.99999999965,
          154500.99999999965,
          186000.9999999995,
          186000.9999999995,
          187500.99999999933,
          187500.99999999933,
          187500.99999999933,
          187500.99999999933,
          220500.999999999,
          220500.999999999,
          222000.99999999884,
          222000.99999999884,
          222000.99999999884,
          222000.99999999884,
          261000.99999999788,
          261000.99999999788,
          261000.99999999788,
          261000.99999999788,
          261000.99999999788,
          300001.00000000023,
          300001.00000000023,
          301501.00000000006,
          301501.00000000006,
          342000.99999999895,
          342000.99999999895,
          342000.99999999895,
          372000.99999999895,
          372000.99999999895,
          372000.99999999895
         ],
         "yaxis": "y"
        },
        {
         "line": {
          "color": "grey"
         },
         "name": "USDN Total",
         "type": "scatter",
         "x": [
          0,
          1,
          2,
          3,
          4,
          5,
          6,
          7,
          8,
          9,
          10,
          11,
          12,
          13,
          14,
          15,
          16,
          17,
          18,
          19,
          20,
          21,
          22,
          23,
          24,
          25,
          26,
          27,
          28,
          29,
          30,
          31,
          32,
          33,
          34,
          35,
          36,
          37,
          38,
          39,
          40,
          41,
          42,
          43,
          44,
          45,
          46,
          47,
          48,
          49,
          50,
          51,
          52,
          53,
          54,
          55,
          56,
          57,
          58
         ],
         "xaxis": "x",
         "y": [
          7500.999999999174,
          15000.999999998348,
          21000.999999997686,
          36000.99999999937,
          42000.999999998705,
          46500.99999999821,
          52500.99999999755,
          58501.00000000022,
          64500.999999999556,
          69000.99999999905,
          75000.9999999984,
          91500.99999999991,
          97500.99999999926,
          103500.9999999986,
          109500.99999999795,
          117001.00000000045,
          124500.99999999962,
          141000.9999999978,
          148501.0000000003,
          154500.99999999962,
          160500.99999999895,
          168000.99999999814,
          174000.99999999747,
          180001.00000000015,
          198000.99999999817,
          205501.00000000067,
          213000.99999999985,
          217500.99999999936,
          223500.9999999987,
          229500.99999999802,
          232500.9999999977,
          247500.9999999994,
          255000.99999999857,
          261000.9999999979,
          267001.0000000006,
          273000.99999999994,
          279000.9999999993,
          285000.99999999866,
          291000.999999998,
          306000.9999999997,
          310500.9999999992,
          315000.99999999866,
          321000.999999998,
          325500.9999999975,
          330001.00000000035,
          343500.99999999884,
          351000.999999998,
          357001.0000000007,
          361501.0000000002,
          372000.999999999,
          382500.99999999785,
          387001.0000000007,
          400500.9999999992,
          409500.9999999982,
          417001.0000000007,
          423001.00000000006,
          427500.99999999953,
          435000.9999999987,
          439500.9999999982
         ],
         "yaxis": "y"
        },
        {
         "line": {
          "color": "blue"
         },
         "name": "alUSD  Total",
         "type": "scatter",
         "x": [
          0,
          1,
          2,
          3,
          4,
          5,
          6,
          7,
          8,
          9,
          10,
          11,
          12,
          13,
          14,
          15,
          16,
          17,
          18,
          19,
          20,
          21,
          22,
          23,
          24,
          25,
          26,
          27,
          28,
          29,
          30,
          31,
          32,
          33,
          34,
          35,
          36,
          37,
          38,
          39,
          40,
          41,
          42,
          43,
          44,
          45,
          46,
          47,
          48,
          49,
          50,
          51,
          52,
          53,
          54,
          55,
          56,
          57,
          58
         ],
         "xaxis": "x",
         "y": [
          1,
          7500.999999999174,
          9000.999999999009,
          18001.000000001346,
          19501.000000001182,
          28501.00000000019,
          31500.999999999858,
          37500.9999999992,
          43501.00000000187,
          43501.00000000187,
          55501.000000000546,
          55501.000000000546,
          66000.99999999939,
          66000.99999999939,
          76501.00000000156,
          76501.00000000156,
          87001.00000000041,
          87001.00000000041,
          99000.99999999908,
          99000.99999999908,
          108001.00000000143,
          109501.00000000127,
          120001.00000000012,
          120001.00000000012,
          132000.9999999988,
          133501.00000000198,
          147001.0000000005,
          147001.0000000005,
          147001.0000000005,
          147001.0000000005,
          147001.0000000005,
          169501.00000000134,
          171001.00000000116,
          171001.00000000116,
          171001.00000000116,
          171001.00000000116,
          198001.0000000015,
          198001.0000000015,
          198001.0000000015,
          198001.0000000015,
          198001.0000000015,
          220500.99999999904,
          229501.00000000137,
          229501.00000000137,
          231001.0000000012,
          231001.0000000012,
          231001.0000000012,
          261001.00000000122,
          261001.00000000122,
          261001.00000000122,
          262501.00000000105,
          262501.00000000105,
          262501.00000000105,
          298501.0000000004,
          298501.0000000004,
          300001.00000000023,
          300001.00000000023,
          331501.0000000001,
          331501.0000000001
         ],
         "yaxis": "y"
        },
        {
         "line": {
          "color": "brown"
         },
         "name": "mUSD",
         "type": "scatter",
         "x": [
          0,
          1,
          2,
          3,
          4,
          5,
          6,
          7,
          8,
          9,
          10,
          11,
          12,
          13,
          14,
          15,
          16,
          17,
          18,
          19,
          20,
          21,
          22,
          23,
          24,
          25,
          26,
          27,
          28,
          29,
          30,
          31,
          32,
          33,
          34,
          35,
          36,
          37,
          38,
          39,
          40,
          41,
          42,
          43,
          44,
          45,
          46,
          47,
          48,
          49,
          50,
          51,
          52,
          53,
          54,
          55,
          56,
          57,
          58
         ],
         "xaxis": "x",
         "y": [
          3000.9999999996694,
          3000.9999999996694,
          4500.999999999504,
          7500.999999999174,
          7500.999999999174,
          9000.999999999009,
          12000.999999998678,
          12000.999999998678,
          12000.999999998678,
          19501.000000001182,
          19501.000000001182,
          19501.000000001182,
          19501.000000001182,
          19501.000000001182,
          21001.00000000102,
          21001.00000000102,
          21001.00000000102,
          21001.00000000102,
          21001.00000000102,
          21001.00000000102,
          21001.00000000102,
          21001.00000000102,
          22501.000000000855,
          22501.000000000855,
          22501.000000000855,
          24001.00000000069,
          24001.00000000069,
          24001.00000000069,
          24001.00000000069,
          24001.00000000069,
          105000.99999999843,
          105000.99999999843,
          105000.99999999843,
          105000.99999999843,
          105000.99999999843,
          105000.99999999843,
          105000.99999999843,
          106500.99999999827,
          106500.99999999827,
          106500.99999999827,
          106500.99999999827,
          106500.99999999827,
          106500.99999999827,
          106500.99999999827,
          106500.99999999827,
          106500.99999999827,
          108000.99999999811,
          109501.00000000128,
          111001.00000000112,
          111001.00000000112,
          111001.00000000112,
          120001.00000000013,
          120001.00000000013,
          120001.00000000013,
          120001.00000000013,
          120001.00000000013,
          120001.00000000013,
          120001.00000000013,
          121500.99999999997
         ],
         "yaxis": "y"
        }
       ],
       "layout": {
        "template": {
         "data": {
          "bar": [
           {
            "error_x": {
             "color": "#2a3f5f"
            },
            "error_y": {
             "color": "#2a3f5f"
            },
            "marker": {
             "line": {
              "color": "#E5ECF6",
              "width": 0.5
             },
             "pattern": {
              "fillmode": "overlay",
              "size": 10,
              "solidity": 0.2
             }
            },
            "type": "bar"
           }
          ],
          "barpolar": [
           {
            "marker": {
             "line": {
              "color": "#E5ECF6",
              "width": 0.5
             },
             "pattern": {
              "fillmode": "overlay",
              "size": 10,
              "solidity": 0.2
             }
            },
            "type": "barpolar"
           }
          ],
          "carpet": [
           {
            "aaxis": {
             "endlinecolor": "#2a3f5f",
             "gridcolor": "white",
             "linecolor": "white",
             "minorgridcolor": "white",
             "startlinecolor": "#2a3f5f"
            },
            "baxis": {
             "endlinecolor": "#2a3f5f",
             "gridcolor": "white",
             "linecolor": "white",
             "minorgridcolor": "white",
             "startlinecolor": "#2a3f5f"
            },
            "type": "carpet"
           }
          ],
          "choropleth": [
           {
            "colorbar": {
             "outlinewidth": 0,
             "ticks": ""
            },
            "type": "choropleth"
           }
          ],
          "contour": [
           {
            "colorbar": {
             "outlinewidth": 0,
             "ticks": ""
            },
            "colorscale": [
             [
              0,
              "#0d0887"
             ],
             [
              0.1111111111111111,
              "#46039f"
             ],
             [
              0.2222222222222222,
              "#7201a8"
             ],
             [
              0.3333333333333333,
              "#9c179e"
             ],
             [
              0.4444444444444444,
              "#bd3786"
             ],
             [
              0.5555555555555556,
              "#d8576b"
             ],
             [
              0.6666666666666666,
              "#ed7953"
             ],
             [
              0.7777777777777778,
              "#fb9f3a"
             ],
             [
              0.8888888888888888,
              "#fdca26"
             ],
             [
              1,
              "#f0f921"
             ]
            ],
            "type": "contour"
           }
          ],
          "contourcarpet": [
           {
            "colorbar": {
             "outlinewidth": 0,
             "ticks": ""
            },
            "type": "contourcarpet"
           }
          ],
          "heatmap": [
           {
            "colorbar": {
             "outlinewidth": 0,
             "ticks": ""
            },
            "colorscale": [
             [
              0,
              "#0d0887"
             ],
             [
              0.1111111111111111,
              "#46039f"
             ],
             [
              0.2222222222222222,
              "#7201a8"
             ],
             [
              0.3333333333333333,
              "#9c179e"
             ],
             [
              0.4444444444444444,
              "#bd3786"
             ],
             [
              0.5555555555555556,
              "#d8576b"
             ],
             [
              0.6666666666666666,
              "#ed7953"
             ],
             [
              0.7777777777777778,
              "#fb9f3a"
             ],
             [
              0.8888888888888888,
              "#fdca26"
             ],
             [
              1,
              "#f0f921"
             ]
            ],
            "type": "heatmap"
           }
          ],
          "heatmapgl": [
           {
            "colorbar": {
             "outlinewidth": 0,
             "ticks": ""
            },
            "colorscale": [
             [
              0,
              "#0d0887"
             ],
             [
              0.1111111111111111,
              "#46039f"
             ],
             [
              0.2222222222222222,
              "#7201a8"
             ],
             [
              0.3333333333333333,
              "#9c179e"
             ],
             [
              0.4444444444444444,
              "#bd3786"
             ],
             [
              0.5555555555555556,
              "#d8576b"
             ],
             [
              0.6666666666666666,
              "#ed7953"
             ],
             [
              0.7777777777777778,
              "#fb9f3a"
             ],
             [
              0.8888888888888888,
              "#fdca26"
             ],
             [
              1,
              "#f0f921"
             ]
            ],
            "type": "heatmapgl"
           }
          ],
          "histogram": [
           {
            "marker": {
             "pattern": {
              "fillmode": "overlay",
              "size": 10,
              "solidity": 0.2
             }
            },
            "type": "histogram"
           }
          ],
          "histogram2d": [
           {
            "colorbar": {
             "outlinewidth": 0,
             "ticks": ""
            },
            "colorscale": [
             [
              0,
              "#0d0887"
             ],
             [
              0.1111111111111111,
              "#46039f"
             ],
             [
              0.2222222222222222,
              "#7201a8"
             ],
             [
              0.3333333333333333,
              "#9c179e"
             ],
             [
              0.4444444444444444,
              "#bd3786"
             ],
             [
              0.5555555555555556,
              "#d8576b"
             ],
             [
              0.6666666666666666,
              "#ed7953"
             ],
             [
              0.7777777777777778,
              "#fb9f3a"
             ],
             [
              0.8888888888888888,
              "#fdca26"
             ],
             [
              1,
              "#f0f921"
             ]
            ],
            "type": "histogram2d"
           }
          ],
          "histogram2dcontour": [
           {
            "colorbar": {
             "outlinewidth": 0,
             "ticks": ""
            },
            "colorscale": [
             [
              0,
              "#0d0887"
             ],
             [
              0.1111111111111111,
              "#46039f"
             ],
             [
              0.2222222222222222,
              "#7201a8"
             ],
             [
              0.3333333333333333,
              "#9c179e"
             ],
             [
              0.4444444444444444,
              "#bd3786"
             ],
             [
              0.5555555555555556,
              "#d8576b"
             ],
             [
              0.6666666666666666,
              "#ed7953"
             ],
             [
              0.7777777777777778,
              "#fb9f3a"
             ],
             [
              0.8888888888888888,
              "#fdca26"
             ],
             [
              1,
              "#f0f921"
             ]
            ],
            "type": "histogram2dcontour"
           }
          ],
          "mesh3d": [
           {
            "colorbar": {
             "outlinewidth": 0,
             "ticks": ""
            },
            "type": "mesh3d"
           }
          ],
          "parcoords": [
           {
            "line": {
             "colorbar": {
              "outlinewidth": 0,
              "ticks": ""
             }
            },
            "type": "parcoords"
           }
          ],
          "pie": [
           {
            "automargin": true,
            "type": "pie"
           }
          ],
          "scatter": [
           {
            "marker": {
             "colorbar": {
              "outlinewidth": 0,
              "ticks": ""
             }
            },
            "type": "scatter"
           }
          ],
          "scatter3d": [
           {
            "line": {
             "colorbar": {
              "outlinewidth": 0,
              "ticks": ""
             }
            },
            "marker": {
             "colorbar": {
              "outlinewidth": 0,
              "ticks": ""
             }
            },
            "type": "scatter3d"
           }
          ],
          "scattercarpet": [
           {
            "marker": {
             "colorbar": {
              "outlinewidth": 0,
              "ticks": ""
             }
            },
            "type": "scattercarpet"
           }
          ],
          "scattergeo": [
           {
            "marker": {
             "colorbar": {
              "outlinewidth": 0,
              "ticks": ""
             }
            },
            "type": "scattergeo"
           }
          ],
          "scattergl": [
           {
            "marker": {
             "colorbar": {
              "outlinewidth": 0,
              "ticks": ""
             }
            },
            "type": "scattergl"
           }
          ],
          "scattermapbox": [
           {
            "marker": {
             "colorbar": {
              "outlinewidth": 0,
              "ticks": ""
             }
            },
            "type": "scattermapbox"
           }
          ],
          "scatterpolar": [
           {
            "marker": {
             "colorbar": {
              "outlinewidth": 0,
              "ticks": ""
             }
            },
            "type": "scatterpolar"
           }
          ],
          "scatterpolargl": [
           {
            "marker": {
             "colorbar": {
              "outlinewidth": 0,
              "ticks": ""
             }
            },
            "type": "scatterpolargl"
           }
          ],
          "scatterternary": [
           {
            "marker": {
             "colorbar": {
              "outlinewidth": 0,
              "ticks": ""
             }
            },
            "type": "scatterternary"
           }
          ],
          "surface": [
           {
            "colorbar": {
             "outlinewidth": 0,
             "ticks": ""
            },
            "colorscale": [
             [
              0,
              "#0d0887"
             ],
             [
              0.1111111111111111,
              "#46039f"
             ],
             [
              0.2222222222222222,
              "#7201a8"
             ],
             [
              0.3333333333333333,
              "#9c179e"
             ],
             [
              0.4444444444444444,
              "#bd3786"
             ],
             [
              0.5555555555555556,
              "#d8576b"
             ],
             [
              0.6666666666666666,
              "#ed7953"
             ],
             [
              0.7777777777777778,
              "#fb9f3a"
             ],
             [
              0.8888888888888888,
              "#fdca26"
             ],
             [
              1,
              "#f0f921"
             ]
            ],
            "type": "surface"
           }
          ],
          "table": [
           {
            "cells": {
             "fill": {
              "color": "#EBF0F8"
             },
             "line": {
              "color": "white"
             }
            },
            "header": {
             "fill": {
              "color": "#C8D4E3"
             },
             "line": {
              "color": "white"
             }
            },
            "type": "table"
           }
          ]
         },
         "layout": {
          "annotationdefaults": {
           "arrowcolor": "#2a3f5f",
           "arrowhead": 0,
           "arrowwidth": 1
          },
          "autotypenumbers": "strict",
          "coloraxis": {
           "colorbar": {
            "outlinewidth": 0,
            "ticks": ""
           }
          },
          "colorscale": {
           "diverging": [
            [
             0,
             "#8e0152"
            ],
            [
             0.1,
             "#c51b7d"
            ],
            [
             0.2,
             "#de77ae"
            ],
            [
             0.3,
             "#f1b6da"
            ],
            [
             0.4,
             "#fde0ef"
            ],
            [
             0.5,
             "#f7f7f7"
            ],
            [
             0.6,
             "#e6f5d0"
            ],
            [
             0.7,
             "#b8e186"
            ],
            [
             0.8,
             "#7fbc41"
            ],
            [
             0.9,
             "#4d9221"
            ],
            [
             1,
             "#276419"
            ]
           ],
           "sequential": [
            [
             0,
             "#0d0887"
            ],
            [
             0.1111111111111111,
             "#46039f"
            ],
            [
             0.2222222222222222,
             "#7201a8"
            ],
            [
             0.3333333333333333,
             "#9c179e"
            ],
            [
             0.4444444444444444,
             "#bd3786"
            ],
            [
             0.5555555555555556,
             "#d8576b"
            ],
            [
             0.6666666666666666,
             "#ed7953"
            ],
            [
             0.7777777777777778,
             "#fb9f3a"
            ],
            [
             0.8888888888888888,
             "#fdca26"
            ],
            [
             1,
             "#f0f921"
            ]
           ],
           "sequentialminus": [
            [
             0,
             "#0d0887"
            ],
            [
             0.1111111111111111,
             "#46039f"
            ],
            [
             0.2222222222222222,
             "#7201a8"
            ],
            [
             0.3333333333333333,
             "#9c179e"
            ],
            [
             0.4444444444444444,
             "#bd3786"
            ],
            [
             0.5555555555555556,
             "#d8576b"
            ],
            [
             0.6666666666666666,
             "#ed7953"
            ],
            [
             0.7777777777777778,
             "#fb9f3a"
            ],
            [
             0.8888888888888888,
             "#fdca26"
            ],
            [
             1,
             "#f0f921"
            ]
           ]
          },
          "colorway": [
           "#636efa",
           "#EF553B",
           "#00cc96",
           "#ab63fa",
           "#FFA15A",
           "#19d3f3",
           "#FF6692",
           "#B6E880",
           "#FF97FF",
           "#FECB52"
          ],
          "font": {
           "color": "#2a3f5f"
          },
          "geo": {
           "bgcolor": "white",
           "lakecolor": "white",
           "landcolor": "#E5ECF6",
           "showlakes": true,
           "showland": true,
           "subunitcolor": "white"
          },
          "hoverlabel": {
           "align": "left"
          },
          "hovermode": "closest",
          "mapbox": {
           "style": "light"
          },
          "paper_bgcolor": "white",
          "plot_bgcolor": "#E5ECF6",
          "polar": {
           "angularaxis": {
            "gridcolor": "white",
            "linecolor": "white",
            "ticks": ""
           },
           "bgcolor": "#E5ECF6",
           "radialaxis": {
            "gridcolor": "white",
            "linecolor": "white",
            "ticks": ""
           }
          },
          "scene": {
           "xaxis": {
            "backgroundcolor": "#E5ECF6",
            "gridcolor": "white",
            "gridwidth": 2,
            "linecolor": "white",
            "showbackground": true,
            "ticks": "",
            "zerolinecolor": "white"
           },
           "yaxis": {
            "backgroundcolor": "#E5ECF6",
            "gridcolor": "white",
            "gridwidth": 2,
            "linecolor": "white",
            "showbackground": true,
            "ticks": "",
            "zerolinecolor": "white"
           },
           "zaxis": {
            "backgroundcolor": "#E5ECF6",
            "gridcolor": "white",
            "gridwidth": 2,
            "linecolor": "white",
            "showbackground": true,
            "ticks": "",
            "zerolinecolor": "white"
           }
          },
          "shapedefaults": {
           "line": {
            "color": "#2a3f5f"
           }
          },
          "ternary": {
           "aaxis": {
            "gridcolor": "white",
            "linecolor": "white",
            "ticks": ""
           },
           "baxis": {
            "gridcolor": "white",
            "linecolor": "white",
            "ticks": ""
           },
           "bgcolor": "#E5ECF6",
           "caxis": {
            "gridcolor": "white",
            "linecolor": "white",
            "ticks": ""
           }
          },
          "title": {
           "x": 0.05
          },
          "xaxis": {
           "automargin": true,
           "gridcolor": "white",
           "linecolor": "white",
           "ticks": "",
           "title": {
            "standoff": 15
           },
           "zerolinecolor": "white",
           "zerolinewidth": 2
          },
          "yaxis": {
           "automargin": true,
           "gridcolor": "white",
           "linecolor": "white",
           "ticks": "",
           "title": {
            "standoff": 15
           },
           "zerolinecolor": "white",
           "zerolinewidth": 2
          }
         }
        },
        "title": {
         "text": "<b>Profit of each Vault Total in USD </b>"
        },
        "xaxis": {
         "anchor": "y",
         "domain": [
          0,
          0.94
         ],
         "title": {
          "text": "Step"
         }
        },
        "yaxis": {
         "anchor": "x",
         "domain": [
          0,
          1
         ]
        },
        "yaxis2": {
         "anchor": "x",
         "overlaying": "y",
         "side": "right"
        }
       }
      }
     },
     "metadata": {},
     "output_type": "display_data"
    }
   ],
   "source": [
    "fig = make_subplots(subplot_titles=('' ), specs=[[{\"secondary_y\": True}]])\n",
    "\n",
    "fig.add_trace(go.Scatter(x=k, y=profit_fund1, line=dict(color='red'), name='MIM  Total'), secondary_y=True)\n",
    "#fig.add_trace(go.Scatter(x=k, y=profit1, line=dict(color='red'), name='USDP'), secondary_y=True)\n",
    "fig.add_trace(go.Scatter(x=k, y=profit_fund2, line=dict(color='green'), name='FRAX Total'), secondary_y=False)\n",
    "#fig.add_trace(go.Scatter(x=k, y=profit2, line=dict(color='green'), name='USDN'), secondary_y=True)\n",
    "fig.add_trace(go.Scatter(x=k, y=profit_fund3, line=dict(color='grey'), name='USDN Total'), secondary_y=False)\n",
    "#fig.add_trace(go.Scatter(x=k, y=profit3, line=dict(color='grey'), name='IronBank'), secondary_y=True)\n",
    "fig.add_trace(go.Scatter(x=k, y=profit_fund4, line=dict(color='blue'), name='alUSD  Total'), secondary_y=False)\n",
    "#fig.add_trace(go.Scatter(x=k, y=profit4, line=dict(color='blue'), name='sUSD'), secondary_y=True)\n",
    "fig.add_trace(go.Scatter(x=k, y=profit_fund5, line=dict(color='brown'), name='mUSD'), secondary_y=False)\n",
    "\n",
    "fig.update_layout(title_text='<b>Profit of each Vault Total in USD </b>')\n",
    "fig.update_xaxes(title_text='Step')\n",
    "fig.show()"
   ]
  },
  {
   "cell_type": "code",
   "execution_count": 21,
   "metadata": {},
   "outputs": [
    {
     "data": {
      "application/vnd.plotly.v1+json": {
       "config": {
        "plotlyServerURL": "https://plot.ly"
       },
       "data": [
        {
         "line": {
          "color": "red"
         },
         "name": "MIM",
         "type": "scatter",
         "x": [
          0,
          1,
          2,
          3,
          4,
          5,
          6,
          7,
          8,
          9,
          10,
          11,
          12,
          13,
          14,
          15,
          16,
          17,
          18,
          19,
          20,
          21,
          22,
          23,
          24,
          25,
          26,
          27,
          28,
          29,
          30,
          31,
          32,
          33,
          34,
          35,
          36,
          37,
          38,
          39,
          40,
          41,
          42,
          43,
          44,
          45,
          46,
          47,
          48,
          49,
          50,
          51,
          52,
          53,
          54,
          55,
          56,
          57,
          58
         ],
         "xaxis": "x",
         "y": [
          0,
          0,
          0,
          0,
          0,
          0,
          0,
          0,
          0,
          0,
          0,
          15028500,
          0,
          0,
          0,
          0,
          1499.9999999998347,
          0,
          0,
          18000.00000000135,
          1499.9999999998347,
          0,
          14999.999999998348,
          0,
          1499.9999999998347,
          0,
          0,
          169500.0000000013,
          1499.9999999998347,
          0,
          0,
          0,
          10499.999999998843,
          5999.999999999339,
          10500.000000002174,
          1499.9999999998347,
          8999.999999999009,
          7499.999999999174,
          9000.00000000234,
          7499.999999999174,
          0,
          8999.999999999009,
          13500.000000001844,
          0,
          10499.999999998843,
          11999.999999998678,
          12000.000000002008,
          10499.999999998843,
          16500.000000001513,
          7499.999999999174,
          14999.999999998348,
          15000.000000001679,
          8999.999999999009,
          12000.000000002008,
          10499.999999998843,
          10499.999999998843,
          9000.00000000234,
          11999.999999998678,
          8999.999999999009
         ],
         "yaxis": "y2"
        },
        {
         "line": {
          "color": "green"
         },
         "name": "FRAX",
         "type": "scatter",
         "x": [
          0,
          1,
          2,
          3,
          4,
          5,
          6,
          7,
          8,
          9,
          10,
          11,
          12,
          13,
          14,
          15,
          16,
          17,
          18,
          19,
          20,
          21,
          22,
          23,
          24,
          25,
          26,
          27,
          28,
          29,
          30,
          31,
          32,
          33,
          34,
          35,
          36,
          37,
          38,
          39,
          40,
          41,
          42,
          43,
          44,
          45,
          46,
          47,
          48,
          49,
          50,
          51,
          52,
          53,
          54,
          55,
          56,
          57,
          58
         ],
         "xaxis": "x",
         "y": [
          0,
          11999.999999998678,
          0,
          2999.9999999996694,
          9000.00000000234,
          0,
          2999.9999999996694,
          7499.999999999174,
          5999.999999999339,
          0,
          0,
          18000.00000000135,
          0,
          0,
          17999.999999998017,
          0,
          0,
          16500.000000001513,
          0,
          14999.999999998348,
          1499.9999999998347,
          0,
          16500.000000001513,
          0,
          0,
          0,
          28500.000000000193,
          0,
          0,
          0,
          0,
          0,
          31499.99999999986,
          0,
          1499.9999999998347,
          0,
          0,
          0,
          32999.999999999694,
          0,
          1499.9999999998347,
          0,
          0,
          0,
          38999.99999999903,
          0,
          0,
          0,
          0,
          39000.000000002365,
          0,
          1499.9999999998347,
          0,
          40499.99999999887,
          0,
          0,
          30000.000000000025,
          0,
          0
         ],
         "yaxis": "y"
        },
        {
         "line": {
          "color": "grey"
         },
         "name": "USDN",
         "type": "scatter",
         "x": [
          0,
          1,
          2,
          3,
          4,
          5,
          6,
          7,
          8,
          9,
          10,
          11,
          12,
          13,
          14,
          15,
          16,
          17,
          18,
          19,
          20,
          21,
          22,
          23,
          24,
          25,
          26,
          27,
          28,
          29,
          30,
          31,
          32,
          33,
          34,
          35,
          36,
          37,
          38,
          39,
          40,
          41,
          42,
          43,
          44,
          45,
          46,
          47,
          48,
          49,
          50,
          51,
          52,
          53,
          54,
          55,
          56,
          57,
          58
         ],
         "xaxis": "x",
         "y": [
          7499.999999999174,
          7499.999999999174,
          5999.999999999339,
          15000.000000001679,
          5999.999999999339,
          4499.999999999504,
          5999.999999999339,
          6000.00000000267,
          5999.999999999339,
          4499.999999999504,
          5999.999999999339,
          16500.000000001513,
          5999.999999999339,
          5999.999999999339,
          5999.999999999339,
          7500.000000002505,
          7499.999999999174,
          16499.99999999818,
          7500.000000002505,
          5999.999999999339,
          5999.999999999339,
          7499.999999999174,
          5999.999999999339,
          6000.00000000267,
          17999.999999998017,
          7500.000000002505,
          7499.999999999174,
          4499.999999999504,
          5999.999999999339,
          5999.999999999339,
          2999.9999999996694,
          15000.000000001679,
          7499.999999999174,
          5999.999999999339,
          6000.00000000267,
          5999.999999999339,
          5999.999999999339,
          5999.999999999339,
          5999.999999999339,
          15000.000000001679,
          4499.999999999504,
          4499.999999999504,
          5999.999999999339,
          4499.999999999504,
          4500.000000002835,
          13499.999999998514,
          7499.999999999174,
          6000.00000000267,
          4499.999999999504,
          10499.999999998843,
          10499.999999998843,
          4500.000000002835,
          13499.999999998514,
          8999.999999999009,
          7500.000000002505,
          5999.999999999339,
          4499.999999999504,
          7499.999999999174,
          4499.999999999504
         ],
         "yaxis": "y"
        },
        {
         "line": {
          "color": "blue"
         },
         "name": "alUSD",
         "type": "scatter",
         "x": [
          0,
          1,
          2,
          3,
          4,
          5,
          6,
          7,
          8,
          9,
          10,
          11,
          12,
          13,
          14,
          15,
          16,
          17,
          18,
          19,
          20,
          21,
          22,
          23,
          24,
          25,
          26,
          27,
          28,
          29,
          30,
          31,
          32,
          33,
          34,
          35,
          36,
          37,
          38,
          39,
          40,
          41,
          42,
          43,
          44,
          45,
          46,
          47,
          48,
          49,
          50,
          51,
          52,
          53,
          54,
          55,
          56,
          57,
          58
         ],
         "xaxis": "x",
         "y": [
          0,
          7499.999999999174,
          1499.9999999998347,
          9000.00000000234,
          1499.9999999998347,
          8999.999999999009,
          2999.9999999996694,
          5999.999999999339,
          6000.00000000267,
          0,
          11999.999999998678,
          0,
          10499.999999998843,
          0,
          10500.000000002174,
          0,
          10499.999999998843,
          0,
          11999.999999998678,
          0,
          9000.00000000234,
          1499.9999999998347,
          10499.999999998843,
          0,
          11999.999999998678,
          1500.0000000031655,
          13499.999999998514,
          0,
          0,
          0,
          0,
          22500.00000000085,
          1499.9999999998347,
          0,
          0,
          0,
          27000.000000000357,
          0,
          0,
          0,
          0,
          22499.999999997523,
          9000.00000000234,
          0,
          1499.9999999998347,
          0,
          0,
          30000.000000000025,
          0,
          0,
          1499.9999999998347,
          0,
          0,
          35999.99999999937,
          0,
          1499.9999999998347,
          0,
          31499.99999999986,
          0
         ],
         "yaxis": "y"
        },
        {
         "line": {
          "color": "brown"
         },
         "name": "mUSD",
         "type": "scatter",
         "x": [
          0,
          1,
          2,
          3,
          4,
          5,
          6,
          7,
          8,
          9,
          10,
          11,
          12,
          13,
          14,
          15,
          16,
          17,
          18,
          19,
          20,
          21,
          22,
          23,
          24,
          25,
          26,
          27,
          28,
          29,
          30,
          31,
          32,
          33,
          34,
          35,
          36,
          37,
          38,
          39,
          40,
          41,
          42,
          43,
          44,
          45,
          46,
          47,
          48,
          49,
          50,
          51,
          52,
          53,
          54,
          55,
          56,
          57,
          58
         ],
         "xaxis": "x",
         "y": [
          2999.9999999996694,
          0,
          1499.9999999998347,
          2999.9999999996694,
          0,
          1499.9999999998347,
          2999.9999999996694,
          0,
          0,
          7500.000000002505,
          0,
          0,
          0,
          0,
          1499.9999999998347,
          0,
          0,
          0,
          0,
          0,
          0,
          0,
          1499.9999999998347,
          0,
          0,
          1499.9999999998347,
          0,
          0,
          0,
          0,
          80999.99999999774,
          0,
          0,
          0,
          0,
          0,
          0,
          1499.9999999998347,
          0,
          0,
          0,
          0,
          0,
          0,
          0,
          0,
          1499.9999999998347,
          1500.0000000031655,
          1499.9999999998347,
          0,
          0,
          8999.999999999009,
          0,
          0,
          0,
          0,
          0,
          0,
          1499.9999999998347
         ],
         "yaxis": "y"
        }
       ],
       "layout": {
        "template": {
         "data": {
          "bar": [
           {
            "error_x": {
             "color": "#2a3f5f"
            },
            "error_y": {
             "color": "#2a3f5f"
            },
            "marker": {
             "line": {
              "color": "#E5ECF6",
              "width": 0.5
             },
             "pattern": {
              "fillmode": "overlay",
              "size": 10,
              "solidity": 0.2
             }
            },
            "type": "bar"
           }
          ],
          "barpolar": [
           {
            "marker": {
             "line": {
              "color": "#E5ECF6",
              "width": 0.5
             },
             "pattern": {
              "fillmode": "overlay",
              "size": 10,
              "solidity": 0.2
             }
            },
            "type": "barpolar"
           }
          ],
          "carpet": [
           {
            "aaxis": {
             "endlinecolor": "#2a3f5f",
             "gridcolor": "white",
             "linecolor": "white",
             "minorgridcolor": "white",
             "startlinecolor": "#2a3f5f"
            },
            "baxis": {
             "endlinecolor": "#2a3f5f",
             "gridcolor": "white",
             "linecolor": "white",
             "minorgridcolor": "white",
             "startlinecolor": "#2a3f5f"
            },
            "type": "carpet"
           }
          ],
          "choropleth": [
           {
            "colorbar": {
             "outlinewidth": 0,
             "ticks": ""
            },
            "type": "choropleth"
           }
          ],
          "contour": [
           {
            "colorbar": {
             "outlinewidth": 0,
             "ticks": ""
            },
            "colorscale": [
             [
              0,
              "#0d0887"
             ],
             [
              0.1111111111111111,
              "#46039f"
             ],
             [
              0.2222222222222222,
              "#7201a8"
             ],
             [
              0.3333333333333333,
              "#9c179e"
             ],
             [
              0.4444444444444444,
              "#bd3786"
             ],
             [
              0.5555555555555556,
              "#d8576b"
             ],
             [
              0.6666666666666666,
              "#ed7953"
             ],
             [
              0.7777777777777778,
              "#fb9f3a"
             ],
             [
              0.8888888888888888,
              "#fdca26"
             ],
             [
              1,
              "#f0f921"
             ]
            ],
            "type": "contour"
           }
          ],
          "contourcarpet": [
           {
            "colorbar": {
             "outlinewidth": 0,
             "ticks": ""
            },
            "type": "contourcarpet"
           }
          ],
          "heatmap": [
           {
            "colorbar": {
             "outlinewidth": 0,
             "ticks": ""
            },
            "colorscale": [
             [
              0,
              "#0d0887"
             ],
             [
              0.1111111111111111,
              "#46039f"
             ],
             [
              0.2222222222222222,
              "#7201a8"
             ],
             [
              0.3333333333333333,
              "#9c179e"
             ],
             [
              0.4444444444444444,
              "#bd3786"
             ],
             [
              0.5555555555555556,
              "#d8576b"
             ],
             [
              0.6666666666666666,
              "#ed7953"
             ],
             [
              0.7777777777777778,
              "#fb9f3a"
             ],
             [
              0.8888888888888888,
              "#fdca26"
             ],
             [
              1,
              "#f0f921"
             ]
            ],
            "type": "heatmap"
           }
          ],
          "heatmapgl": [
           {
            "colorbar": {
             "outlinewidth": 0,
             "ticks": ""
            },
            "colorscale": [
             [
              0,
              "#0d0887"
             ],
             [
              0.1111111111111111,
              "#46039f"
             ],
             [
              0.2222222222222222,
              "#7201a8"
             ],
             [
              0.3333333333333333,
              "#9c179e"
             ],
             [
              0.4444444444444444,
              "#bd3786"
             ],
             [
              0.5555555555555556,
              "#d8576b"
             ],
             [
              0.6666666666666666,
              "#ed7953"
             ],
             [
              0.7777777777777778,
              "#fb9f3a"
             ],
             [
              0.8888888888888888,
              "#fdca26"
             ],
             [
              1,
              "#f0f921"
             ]
            ],
            "type": "heatmapgl"
           }
          ],
          "histogram": [
           {
            "marker": {
             "pattern": {
              "fillmode": "overlay",
              "size": 10,
              "solidity": 0.2
             }
            },
            "type": "histogram"
           }
          ],
          "histogram2d": [
           {
            "colorbar": {
             "outlinewidth": 0,
             "ticks": ""
            },
            "colorscale": [
             [
              0,
              "#0d0887"
             ],
             [
              0.1111111111111111,
              "#46039f"
             ],
             [
              0.2222222222222222,
              "#7201a8"
             ],
             [
              0.3333333333333333,
              "#9c179e"
             ],
             [
              0.4444444444444444,
              "#bd3786"
             ],
             [
              0.5555555555555556,
              "#d8576b"
             ],
             [
              0.6666666666666666,
              "#ed7953"
             ],
             [
              0.7777777777777778,
              "#fb9f3a"
             ],
             [
              0.8888888888888888,
              "#fdca26"
             ],
             [
              1,
              "#f0f921"
             ]
            ],
            "type": "histogram2d"
           }
          ],
          "histogram2dcontour": [
           {
            "colorbar": {
             "outlinewidth": 0,
             "ticks": ""
            },
            "colorscale": [
             [
              0,
              "#0d0887"
             ],
             [
              0.1111111111111111,
              "#46039f"
             ],
             [
              0.2222222222222222,
              "#7201a8"
             ],
             [
              0.3333333333333333,
              "#9c179e"
             ],
             [
              0.4444444444444444,
              "#bd3786"
             ],
             [
              0.5555555555555556,
              "#d8576b"
             ],
             [
              0.6666666666666666,
              "#ed7953"
             ],
             [
              0.7777777777777778,
              "#fb9f3a"
             ],
             [
              0.8888888888888888,
              "#fdca26"
             ],
             [
              1,
              "#f0f921"
             ]
            ],
            "type": "histogram2dcontour"
           }
          ],
          "mesh3d": [
           {
            "colorbar": {
             "outlinewidth": 0,
             "ticks": ""
            },
            "type": "mesh3d"
           }
          ],
          "parcoords": [
           {
            "line": {
             "colorbar": {
              "outlinewidth": 0,
              "ticks": ""
             }
            },
            "type": "parcoords"
           }
          ],
          "pie": [
           {
            "automargin": true,
            "type": "pie"
           }
          ],
          "scatter": [
           {
            "marker": {
             "colorbar": {
              "outlinewidth": 0,
              "ticks": ""
             }
            },
            "type": "scatter"
           }
          ],
          "scatter3d": [
           {
            "line": {
             "colorbar": {
              "outlinewidth": 0,
              "ticks": ""
             }
            },
            "marker": {
             "colorbar": {
              "outlinewidth": 0,
              "ticks": ""
             }
            },
            "type": "scatter3d"
           }
          ],
          "scattercarpet": [
           {
            "marker": {
             "colorbar": {
              "outlinewidth": 0,
              "ticks": ""
             }
            },
            "type": "scattercarpet"
           }
          ],
          "scattergeo": [
           {
            "marker": {
             "colorbar": {
              "outlinewidth": 0,
              "ticks": ""
             }
            },
            "type": "scattergeo"
           }
          ],
          "scattergl": [
           {
            "marker": {
             "colorbar": {
              "outlinewidth": 0,
              "ticks": ""
             }
            },
            "type": "scattergl"
           }
          ],
          "scattermapbox": [
           {
            "marker": {
             "colorbar": {
              "outlinewidth": 0,
              "ticks": ""
             }
            },
            "type": "scattermapbox"
           }
          ],
          "scatterpolar": [
           {
            "marker": {
             "colorbar": {
              "outlinewidth": 0,
              "ticks": ""
             }
            },
            "type": "scatterpolar"
           }
          ],
          "scatterpolargl": [
           {
            "marker": {
             "colorbar": {
              "outlinewidth": 0,
              "ticks": ""
             }
            },
            "type": "scatterpolargl"
           }
          ],
          "scatterternary": [
           {
            "marker": {
             "colorbar": {
              "outlinewidth": 0,
              "ticks": ""
             }
            },
            "type": "scatterternary"
           }
          ],
          "surface": [
           {
            "colorbar": {
             "outlinewidth": 0,
             "ticks": ""
            },
            "colorscale": [
             [
              0,
              "#0d0887"
             ],
             [
              0.1111111111111111,
              "#46039f"
             ],
             [
              0.2222222222222222,
              "#7201a8"
             ],
             [
              0.3333333333333333,
              "#9c179e"
             ],
             [
              0.4444444444444444,
              "#bd3786"
             ],
             [
              0.5555555555555556,
              "#d8576b"
             ],
             [
              0.6666666666666666,
              "#ed7953"
             ],
             [
              0.7777777777777778,
              "#fb9f3a"
             ],
             [
              0.8888888888888888,
              "#fdca26"
             ],
             [
              1,
              "#f0f921"
             ]
            ],
            "type": "surface"
           }
          ],
          "table": [
           {
            "cells": {
             "fill": {
              "color": "#EBF0F8"
             },
             "line": {
              "color": "white"
             }
            },
            "header": {
             "fill": {
              "color": "#C8D4E3"
             },
             "line": {
              "color": "white"
             }
            },
            "type": "table"
           }
          ]
         },
         "layout": {
          "annotationdefaults": {
           "arrowcolor": "#2a3f5f",
           "arrowhead": 0,
           "arrowwidth": 1
          },
          "autotypenumbers": "strict",
          "coloraxis": {
           "colorbar": {
            "outlinewidth": 0,
            "ticks": ""
           }
          },
          "colorscale": {
           "diverging": [
            [
             0,
             "#8e0152"
            ],
            [
             0.1,
             "#c51b7d"
            ],
            [
             0.2,
             "#de77ae"
            ],
            [
             0.3,
             "#f1b6da"
            ],
            [
             0.4,
             "#fde0ef"
            ],
            [
             0.5,
             "#f7f7f7"
            ],
            [
             0.6,
             "#e6f5d0"
            ],
            [
             0.7,
             "#b8e186"
            ],
            [
             0.8,
             "#7fbc41"
            ],
            [
             0.9,
             "#4d9221"
            ],
            [
             1,
             "#276419"
            ]
           ],
           "sequential": [
            [
             0,
             "#0d0887"
            ],
            [
             0.1111111111111111,
             "#46039f"
            ],
            [
             0.2222222222222222,
             "#7201a8"
            ],
            [
             0.3333333333333333,
             "#9c179e"
            ],
            [
             0.4444444444444444,
             "#bd3786"
            ],
            [
             0.5555555555555556,
             "#d8576b"
            ],
            [
             0.6666666666666666,
             "#ed7953"
            ],
            [
             0.7777777777777778,
             "#fb9f3a"
            ],
            [
             0.8888888888888888,
             "#fdca26"
            ],
            [
             1,
             "#f0f921"
            ]
           ],
           "sequentialminus": [
            [
             0,
             "#0d0887"
            ],
            [
             0.1111111111111111,
             "#46039f"
            ],
            [
             0.2222222222222222,
             "#7201a8"
            ],
            [
             0.3333333333333333,
             "#9c179e"
            ],
            [
             0.4444444444444444,
             "#bd3786"
            ],
            [
             0.5555555555555556,
             "#d8576b"
            ],
            [
             0.6666666666666666,
             "#ed7953"
            ],
            [
             0.7777777777777778,
             "#fb9f3a"
            ],
            [
             0.8888888888888888,
             "#fdca26"
            ],
            [
             1,
             "#f0f921"
            ]
           ]
          },
          "colorway": [
           "#636efa",
           "#EF553B",
           "#00cc96",
           "#ab63fa",
           "#FFA15A",
           "#19d3f3",
           "#FF6692",
           "#B6E880",
           "#FF97FF",
           "#FECB52"
          ],
          "font": {
           "color": "#2a3f5f"
          },
          "geo": {
           "bgcolor": "white",
           "lakecolor": "white",
           "landcolor": "#E5ECF6",
           "showlakes": true,
           "showland": true,
           "subunitcolor": "white"
          },
          "hoverlabel": {
           "align": "left"
          },
          "hovermode": "closest",
          "mapbox": {
           "style": "light"
          },
          "paper_bgcolor": "white",
          "plot_bgcolor": "#E5ECF6",
          "polar": {
           "angularaxis": {
            "gridcolor": "white",
            "linecolor": "white",
            "ticks": ""
           },
           "bgcolor": "#E5ECF6",
           "radialaxis": {
            "gridcolor": "white",
            "linecolor": "white",
            "ticks": ""
           }
          },
          "scene": {
           "xaxis": {
            "backgroundcolor": "#E5ECF6",
            "gridcolor": "white",
            "gridwidth": 2,
            "linecolor": "white",
            "showbackground": true,
            "ticks": "",
            "zerolinecolor": "white"
           },
           "yaxis": {
            "backgroundcolor": "#E5ECF6",
            "gridcolor": "white",
            "gridwidth": 2,
            "linecolor": "white",
            "showbackground": true,
            "ticks": "",
            "zerolinecolor": "white"
           },
           "zaxis": {
            "backgroundcolor": "#E5ECF6",
            "gridcolor": "white",
            "gridwidth": 2,
            "linecolor": "white",
            "showbackground": true,
            "ticks": "",
            "zerolinecolor": "white"
           }
          },
          "shapedefaults": {
           "line": {
            "color": "#2a3f5f"
           }
          },
          "ternary": {
           "aaxis": {
            "gridcolor": "white",
            "linecolor": "white",
            "ticks": ""
           },
           "baxis": {
            "gridcolor": "white",
            "linecolor": "white",
            "ticks": ""
           },
           "bgcolor": "#E5ECF6",
           "caxis": {
            "gridcolor": "white",
            "linecolor": "white",
            "ticks": ""
           }
          },
          "title": {
           "x": 0.05
          },
          "xaxis": {
           "automargin": true,
           "gridcolor": "white",
           "linecolor": "white",
           "ticks": "",
           "title": {
            "standoff": 15
           },
           "zerolinecolor": "white",
           "zerolinewidth": 2
          },
          "yaxis": {
           "automargin": true,
           "gridcolor": "white",
           "linecolor": "white",
           "ticks": "",
           "title": {
            "standoff": 15
           },
           "zerolinecolor": "white",
           "zerolinewidth": 2
          }
         }
        },
        "title": {
         "text": "<b>Profit of each Vaults per day in USD </b>"
        },
        "xaxis": {
         "anchor": "y",
         "domain": [
          0,
          0.94
         ],
         "title": {
          "text": "Step"
         }
        },
        "yaxis": {
         "anchor": "x",
         "domain": [
          0,
          1
         ]
        },
        "yaxis2": {
         "anchor": "x",
         "overlaying": "y",
         "side": "right"
        }
       }
      }
     },
     "metadata": {},
     "output_type": "display_data"
    }
   ],
   "source": [
    "fig = make_subplots(subplot_titles=('' ), specs=[[{\"secondary_y\": True}]])\n",
    "\n",
    "#fig.add_trace(go.Scatter(x=k, y=profit_fund1, line=dict(color='red'), name='USDP  Total'), secondary_y=False)\n",
    "fig.add_trace(go.Scatter(x=k, y=profit1, line=dict(color='red'), name='MIM'), secondary_y=True)\n",
    "fig.add_trace(go.Scatter(x=k, y=profit2, line=dict(color='green'), name='FRAX'), secondary_y=False)\n",
    "fig.add_trace(go.Scatter(x=k, y=profit3, line=dict(color='grey'), name='USDN'), secondary_y=False)\n",
    "#fig.add_trace(go.Scatter(x=k, y=profit_fund4, line=dict(color='blue'), name='sUSD  Total'), secondary_y=False)\n",
    "fig.add_trace(go.Scatter(x=k, y=profit4, line=dict(color='blue'), name='alUSD'), secondary_y=False)\n",
    "fig.add_trace(go.Scatter(x=k, y=profit5, line=dict(color='brown'), name='mUSD'), secondary_y=False)\n",
    "\n",
    "fig.update_layout(title_text='<b>Profit of each Vaults per day in USD </b>')\n",
    "fig.update_xaxes(title_text='Step')\n",
    "fig.show()"
   ]
  },
  {
   "cell_type": "code",
   "execution_count": 22,
   "metadata": {},
   "outputs": [
    {
     "data": {
      "application/vnd.plotly.v1+json": {
       "config": {
        "plotlyServerURL": "https://plot.ly"
       },
       "data": [
        {
         "line": {
          "color": "red"
         },
         "name": "Strategy 1 - Price Velosity",
         "type": "scatter",
         "x": [
          0,
          1,
          2,
          3,
          4,
          5,
          6,
          7,
          8,
          9,
          10,
          11,
          12,
          13,
          14,
          15,
          16,
          17,
          18,
          19,
          20,
          21,
          22,
          23,
          24,
          25,
          26,
          27,
          28,
          29,
          30,
          31,
          32,
          33,
          34,
          35,
          36,
          37,
          38,
          39,
          40,
          41,
          42,
          43,
          44,
          45,
          46,
          47,
          48,
          49,
          50,
          51,
          52,
          53,
          54,
          55,
          56,
          57,
          58
         ],
         "xaxis": "x",
         "y": [
          2099.9999999997685,
          7457.1428571420365,
          9540.47619047514,
          21540.47619047659,
          25890.47619047631,
          28345.021645021,
          32245.02164502057,
          37345.02164502134,
          43345.021645021705,
          44845.02164502126,
          47095.02164502039,
          52595.02164502089,
          52601.594040957956,
          54783.4122227759,
          60783.41222277524,
          62033.412222775536,
          69533.41222277471,
          75879.56606892786,
          79629.56606892873,
          81937.25837662142,
          84129.56606892882,
          87379.56606892814,
          94129.5660689274,
          94856.83879620039,
          112856.83879619841,
          117713.9816533439,
          124999.69593905943,
          125681.51412087749,
          127297.89343122212,
          132097.8934312216,
          135097.89343122128,
          135633.60771693557,
          139533.60771693525,
          141651.2547757584,
          149901.2547757608,
          152776.2547757608,
          159376.25477576008,
          161840.54049004533,
          168740.54049004623,
          172021.79049004635,
          175021.79049004623,
          178396.79049004585,
          188146.7904900477,
          189094.15891109998,
          193594.1589111028,
          196959.0237759677,
          206576.67083479176,
          214826.67083479263,
          219045.42083479243,
          226645.42083479158,
          230553.3155716328,
          240636.64890496817,
          247161.6489049685,
          257361.6489049687,
          259346.26428958433,
          267971.2642895829,
          274721.2642895841,
          277979.8849792394,
          280759.29674394475
         ],
         "yaxis": "y"
        },
        {
         "line": {
          "color": "green"
         },
         "name": "Strategy 2 - TVL Velosity",
         "type": "scatter",
         "x": [
          0,
          1,
          2,
          3,
          4,
          5,
          6,
          7,
          8,
          9,
          10,
          11,
          12,
          13,
          14,
          15,
          16,
          17,
          18,
          19,
          20,
          21,
          22,
          23,
          24,
          25,
          26,
          27,
          28,
          29,
          30,
          31,
          32,
          33,
          34,
          35,
          36,
          37,
          38,
          39,
          40,
          41,
          42,
          43,
          44,
          45,
          46,
          47,
          48,
          49,
          50,
          51,
          52,
          53,
          54,
          55,
          56,
          57,
          58
         ],
         "xaxis": "x",
         "y": [
          7499.9878161059405,
          14999.987816105115,
          16499.987722200374,
          29467.037207677222,
          31238.12176453639,
          40234.655024201995,
          43234.65486921879,
          43234.65486921879,
          49234.650857154265,
          53731.99129443061,
          65731.86299950784,
          83729.86668781264,
          94229.05903925726,
          96927.73558476933,
          106672.41844779227,
          113197.54138850515,
          115166.59007421578,
          131464.79916678686,
          138835.18946163866,
          139959.72434153978,
          146504.55559491942,
          147837.5962878663,
          159967.11578399123,
          160062.99242547795,
          163553.75512309972,
          170051.84123548665,
          179104.68242469785,
          179104.68242469785,
          185094.99869447513,
          185094.99869447513,
          241634.19176929095,
          241634.19176929095,
          252101.45609846592,
          254287.7349100961,
          264787.7189316011,
          266254.9999163061,
          274457.17872684915,
          274457.17872684915,
          287284.51265167526,
          295113.082196686,
          295113.082196686,
          303726.7842977415,
          316823.5145537108,
          317601.68127264164,
          327898.45196446736,
          340260.2924371778,
          349087.49240506144,
          359304.54574903566,
          369433.3943648471,
          378718.4543293243,
          391940.6655006652,
          406347.8317029974,
          415263.2491601698,
          453637.74301428185,
          464137.4180941583,
          470135.9167392885,
          475288.513191067,
          488946.3500696176,
          494882.9643605296
         ],
         "yaxis": "y"
        },
        {
         "line": {
          "color": "grey"
         },
         "name": "Strategy 3 - TVL",
         "type": "scatter",
         "x": [
          0,
          1,
          2,
          3,
          4,
          5,
          6,
          7,
          8,
          9,
          10,
          11,
          12,
          13,
          14,
          15,
          16,
          17,
          18,
          19,
          20,
          21,
          22,
          23,
          24,
          25,
          26,
          27,
          28,
          29,
          30,
          31,
          32,
          33,
          34,
          35,
          36,
          37,
          38,
          39,
          40,
          41,
          42,
          43,
          44,
          45,
          46,
          47,
          48,
          49,
          50,
          51,
          52,
          53,
          54,
          55,
          56,
          57,
          58
         ],
         "xaxis": "x",
         "y": [
          5681.864606409601,
          13620.55940466635,
          18578.429749258583,
          31792.10116517488,
          37627.17372762548,
          42143.71482614824,
          47532.601238807605,
          53673.42581465165,
          59668.133600425186,
          63250.68302587925,
          69308.89801732825,
          84092.2430086897,
          90124.32712120267,
          94930.16788239134,
          102426.66899612769,
          108430.48458402006,
          115667.71694675047,
          130209.32940141452,
          137620.9096513514,
          143664.32806039846,
          149650.46006434027,
          155964.33191145197,
          163205.69863924826,
          168115.79779218388,
          183546.04116476182,
          189506.055361592,
          198832.63607184915,
          203874.70145119028,
          208738.804321251,
          213598.66949656277,
          216071.20859391833,
          230599.43258241314,
          239318.45497049874,
          244237.55444223166,
          249494.49793388735,
          254223.24085147787,
          262122.07241973613,
          267311.5796162483,
          274721.7858359354,
          286643.97105411056,
          290033.5746725788,
          296092.0356461477,
          303158.6090849615,
          306315.0048616795,
          313735.00853934715,
          325249.0664539489,
          332651.2482036011,
          340744.1922541605,
          347445.2430313241,
          358136.15001263324,
          368615.3882460484,
          375481.4523908316,
          386094.0713425828,
          399255.5130144494,
          406653.4803891882,
          413300.1038767753,
          420112.5771109386,
          429638.5066845855,
          434688.64455989416
         ],
         "yaxis": "y"
        },
        {
         "line": {
          "color": "black"
         },
         "name": "MIM Total",
         "type": "scatter",
         "x": [
          0,
          1,
          2,
          3,
          4,
          5,
          6,
          7,
          8,
          9,
          10,
          11,
          12,
          13,
          14,
          15,
          16,
          17,
          18,
          19,
          20,
          21,
          22,
          23,
          24,
          25,
          26,
          27,
          28,
          29,
          30,
          31,
          32,
          33,
          34,
          35,
          36,
          37,
          38,
          39,
          40,
          41,
          42,
          43,
          44,
          45,
          46,
          47,
          48,
          49,
          50,
          51,
          52,
          53,
          54,
          55,
          56,
          57,
          58
         ],
         "xaxis": "x",
         "y": [
          1,
          1,
          1,
          1,
          1,
          1,
          1,
          1,
          1,
          1,
          1,
          15028501,
          15028501,
          15028501,
          15028501,
          15028501,
          15030001,
          15030001,
          15030001,
          15048001.000000002,
          15049501.000000002,
          15049501.000000002,
          15064501,
          15064501,
          15066001,
          15066001,
          15066001,
          15235501.000000002,
          15237001.000000002,
          15237001.000000002,
          15237001.000000002,
          15237001.000000002,
          15247501,
          15253501,
          15264001.000000002,
          15265501.000000002,
          15274501,
          15282001,
          15291001.000000002,
          15298501.000000002,
          15298501.000000002,
          15307501,
          15321001.000000002,
          15321001.000000002,
          15331501,
          15343500.999999998,
          15355501,
          15366000.999999998,
          15382501,
          15390001,
          15405000.999999998,
          15420001,
          15429000.999999998,
          15441001,
          15451500.999999998,
          15462000.999999996,
          15471000.999999998,
          15483000.999999996,
          15492000.999999994
         ],
         "yaxis": "y"
        },
        {
         "line": {
          "color": "blue"
         },
         "name": "USDN Total",
         "type": "scatter",
         "x": [
          0,
          1,
          2,
          3,
          4,
          5,
          6,
          7,
          8,
          9,
          10,
          11,
          12,
          13,
          14,
          15,
          16,
          17,
          18,
          19,
          20,
          21,
          22,
          23,
          24,
          25,
          26,
          27,
          28,
          29,
          30,
          31,
          32,
          33,
          34,
          35,
          36,
          37,
          38,
          39,
          40,
          41,
          42,
          43,
          44,
          45,
          46,
          47,
          48,
          49,
          50,
          51,
          52,
          53,
          54,
          55,
          56,
          57,
          58
         ],
         "xaxis": "x",
         "y": [
          7500.999999999174,
          15000.999999998348,
          21000.999999997686,
          36000.99999999937,
          42000.999999998705,
          46500.99999999821,
          52500.99999999755,
          58501.00000000022,
          64500.999999999556,
          69000.99999999905,
          75000.9999999984,
          91500.99999999991,
          97500.99999999926,
          103500.9999999986,
          109500.99999999795,
          117001.00000000045,
          124500.99999999962,
          141000.9999999978,
          148501.0000000003,
          154500.99999999962,
          160500.99999999895,
          168000.99999999814,
          174000.99999999747,
          180001.00000000015,
          198000.99999999817,
          205501.00000000067,
          213000.99999999985,
          217500.99999999936,
          223500.9999999987,
          229500.99999999802,
          232500.9999999977,
          247500.9999999994,
          255000.99999999857,
          261000.9999999979,
          267001.0000000006,
          273000.99999999994,
          279000.9999999993,
          285000.99999999866,
          291000.999999998,
          306000.9999999997,
          310500.9999999992,
          315000.99999999866,
          321000.999999998,
          325500.9999999975,
          330001.00000000035,
          343500.99999999884,
          351000.999999998,
          357001.0000000007,
          361501.0000000002,
          372000.999999999,
          382500.99999999785,
          387001.0000000007,
          400500.9999999992,
          409500.9999999982,
          417001.0000000007,
          423001.00000000006,
          427500.99999999953,
          435000.9999999987,
          439500.9999999982
         ],
         "yaxis": "y"
        }
       ],
       "layout": {
        "template": {
         "data": {
          "bar": [
           {
            "error_x": {
             "color": "#2a3f5f"
            },
            "error_y": {
             "color": "#2a3f5f"
            },
            "marker": {
             "line": {
              "color": "#E5ECF6",
              "width": 0.5
             },
             "pattern": {
              "fillmode": "overlay",
              "size": 10,
              "solidity": 0.2
             }
            },
            "type": "bar"
           }
          ],
          "barpolar": [
           {
            "marker": {
             "line": {
              "color": "#E5ECF6",
              "width": 0.5
             },
             "pattern": {
              "fillmode": "overlay",
              "size": 10,
              "solidity": 0.2
             }
            },
            "type": "barpolar"
           }
          ],
          "carpet": [
           {
            "aaxis": {
             "endlinecolor": "#2a3f5f",
             "gridcolor": "white",
             "linecolor": "white",
             "minorgridcolor": "white",
             "startlinecolor": "#2a3f5f"
            },
            "baxis": {
             "endlinecolor": "#2a3f5f",
             "gridcolor": "white",
             "linecolor": "white",
             "minorgridcolor": "white",
             "startlinecolor": "#2a3f5f"
            },
            "type": "carpet"
           }
          ],
          "choropleth": [
           {
            "colorbar": {
             "outlinewidth": 0,
             "ticks": ""
            },
            "type": "choropleth"
           }
          ],
          "contour": [
           {
            "colorbar": {
             "outlinewidth": 0,
             "ticks": ""
            },
            "colorscale": [
             [
              0,
              "#0d0887"
             ],
             [
              0.1111111111111111,
              "#46039f"
             ],
             [
              0.2222222222222222,
              "#7201a8"
             ],
             [
              0.3333333333333333,
              "#9c179e"
             ],
             [
              0.4444444444444444,
              "#bd3786"
             ],
             [
              0.5555555555555556,
              "#d8576b"
             ],
             [
              0.6666666666666666,
              "#ed7953"
             ],
             [
              0.7777777777777778,
              "#fb9f3a"
             ],
             [
              0.8888888888888888,
              "#fdca26"
             ],
             [
              1,
              "#f0f921"
             ]
            ],
            "type": "contour"
           }
          ],
          "contourcarpet": [
           {
            "colorbar": {
             "outlinewidth": 0,
             "ticks": ""
            },
            "type": "contourcarpet"
           }
          ],
          "heatmap": [
           {
            "colorbar": {
             "outlinewidth": 0,
             "ticks": ""
            },
            "colorscale": [
             [
              0,
              "#0d0887"
             ],
             [
              0.1111111111111111,
              "#46039f"
             ],
             [
              0.2222222222222222,
              "#7201a8"
             ],
             [
              0.3333333333333333,
              "#9c179e"
             ],
             [
              0.4444444444444444,
              "#bd3786"
             ],
             [
              0.5555555555555556,
              "#d8576b"
             ],
             [
              0.6666666666666666,
              "#ed7953"
             ],
             [
              0.7777777777777778,
              "#fb9f3a"
             ],
             [
              0.8888888888888888,
              "#fdca26"
             ],
             [
              1,
              "#f0f921"
             ]
            ],
            "type": "heatmap"
           }
          ],
          "heatmapgl": [
           {
            "colorbar": {
             "outlinewidth": 0,
             "ticks": ""
            },
            "colorscale": [
             [
              0,
              "#0d0887"
             ],
             [
              0.1111111111111111,
              "#46039f"
             ],
             [
              0.2222222222222222,
              "#7201a8"
             ],
             [
              0.3333333333333333,
              "#9c179e"
             ],
             [
              0.4444444444444444,
              "#bd3786"
             ],
             [
              0.5555555555555556,
              "#d8576b"
             ],
             [
              0.6666666666666666,
              "#ed7953"
             ],
             [
              0.7777777777777778,
              "#fb9f3a"
             ],
             [
              0.8888888888888888,
              "#fdca26"
             ],
             [
              1,
              "#f0f921"
             ]
            ],
            "type": "heatmapgl"
           }
          ],
          "histogram": [
           {
            "marker": {
             "pattern": {
              "fillmode": "overlay",
              "size": 10,
              "solidity": 0.2
             }
            },
            "type": "histogram"
           }
          ],
          "histogram2d": [
           {
            "colorbar": {
             "outlinewidth": 0,
             "ticks": ""
            },
            "colorscale": [
             [
              0,
              "#0d0887"
             ],
             [
              0.1111111111111111,
              "#46039f"
             ],
             [
              0.2222222222222222,
              "#7201a8"
             ],
             [
              0.3333333333333333,
              "#9c179e"
             ],
             [
              0.4444444444444444,
              "#bd3786"
             ],
             [
              0.5555555555555556,
              "#d8576b"
             ],
             [
              0.6666666666666666,
              "#ed7953"
             ],
             [
              0.7777777777777778,
              "#fb9f3a"
             ],
             [
              0.8888888888888888,
              "#fdca26"
             ],
             [
              1,
              "#f0f921"
             ]
            ],
            "type": "histogram2d"
           }
          ],
          "histogram2dcontour": [
           {
            "colorbar": {
             "outlinewidth": 0,
             "ticks": ""
            },
            "colorscale": [
             [
              0,
              "#0d0887"
             ],
             [
              0.1111111111111111,
              "#46039f"
             ],
             [
              0.2222222222222222,
              "#7201a8"
             ],
             [
              0.3333333333333333,
              "#9c179e"
             ],
             [
              0.4444444444444444,
              "#bd3786"
             ],
             [
              0.5555555555555556,
              "#d8576b"
             ],
             [
              0.6666666666666666,
              "#ed7953"
             ],
             [
              0.7777777777777778,
              "#fb9f3a"
             ],
             [
              0.8888888888888888,
              "#fdca26"
             ],
             [
              1,
              "#f0f921"
             ]
            ],
            "type": "histogram2dcontour"
           }
          ],
          "mesh3d": [
           {
            "colorbar": {
             "outlinewidth": 0,
             "ticks": ""
            },
            "type": "mesh3d"
           }
          ],
          "parcoords": [
           {
            "line": {
             "colorbar": {
              "outlinewidth": 0,
              "ticks": ""
             }
            },
            "type": "parcoords"
           }
          ],
          "pie": [
           {
            "automargin": true,
            "type": "pie"
           }
          ],
          "scatter": [
           {
            "marker": {
             "colorbar": {
              "outlinewidth": 0,
              "ticks": ""
             }
            },
            "type": "scatter"
           }
          ],
          "scatter3d": [
           {
            "line": {
             "colorbar": {
              "outlinewidth": 0,
              "ticks": ""
             }
            },
            "marker": {
             "colorbar": {
              "outlinewidth": 0,
              "ticks": ""
             }
            },
            "type": "scatter3d"
           }
          ],
          "scattercarpet": [
           {
            "marker": {
             "colorbar": {
              "outlinewidth": 0,
              "ticks": ""
             }
            },
            "type": "scattercarpet"
           }
          ],
          "scattergeo": [
           {
            "marker": {
             "colorbar": {
              "outlinewidth": 0,
              "ticks": ""
             }
            },
            "type": "scattergeo"
           }
          ],
          "scattergl": [
           {
            "marker": {
             "colorbar": {
              "outlinewidth": 0,
              "ticks": ""
             }
            },
            "type": "scattergl"
           }
          ],
          "scattermapbox": [
           {
            "marker": {
             "colorbar": {
              "outlinewidth": 0,
              "ticks": ""
             }
            },
            "type": "scattermapbox"
           }
          ],
          "scatterpolar": [
           {
            "marker": {
             "colorbar": {
              "outlinewidth": 0,
              "ticks": ""
             }
            },
            "type": "scatterpolar"
           }
          ],
          "scatterpolargl": [
           {
            "marker": {
             "colorbar": {
              "outlinewidth": 0,
              "ticks": ""
             }
            },
            "type": "scatterpolargl"
           }
          ],
          "scatterternary": [
           {
            "marker": {
             "colorbar": {
              "outlinewidth": 0,
              "ticks": ""
             }
            },
            "type": "scatterternary"
           }
          ],
          "surface": [
           {
            "colorbar": {
             "outlinewidth": 0,
             "ticks": ""
            },
            "colorscale": [
             [
              0,
              "#0d0887"
             ],
             [
              0.1111111111111111,
              "#46039f"
             ],
             [
              0.2222222222222222,
              "#7201a8"
             ],
             [
              0.3333333333333333,
              "#9c179e"
             ],
             [
              0.4444444444444444,
              "#bd3786"
             ],
             [
              0.5555555555555556,
              "#d8576b"
             ],
             [
              0.6666666666666666,
              "#ed7953"
             ],
             [
              0.7777777777777778,
              "#fb9f3a"
             ],
             [
              0.8888888888888888,
              "#fdca26"
             ],
             [
              1,
              "#f0f921"
             ]
            ],
            "type": "surface"
           }
          ],
          "table": [
           {
            "cells": {
             "fill": {
              "color": "#EBF0F8"
             },
             "line": {
              "color": "white"
             }
            },
            "header": {
             "fill": {
              "color": "#C8D4E3"
             },
             "line": {
              "color": "white"
             }
            },
            "type": "table"
           }
          ]
         },
         "layout": {
          "annotationdefaults": {
           "arrowcolor": "#2a3f5f",
           "arrowhead": 0,
           "arrowwidth": 1
          },
          "autotypenumbers": "strict",
          "coloraxis": {
           "colorbar": {
            "outlinewidth": 0,
            "ticks": ""
           }
          },
          "colorscale": {
           "diverging": [
            [
             0,
             "#8e0152"
            ],
            [
             0.1,
             "#c51b7d"
            ],
            [
             0.2,
             "#de77ae"
            ],
            [
             0.3,
             "#f1b6da"
            ],
            [
             0.4,
             "#fde0ef"
            ],
            [
             0.5,
             "#f7f7f7"
            ],
            [
             0.6,
             "#e6f5d0"
            ],
            [
             0.7,
             "#b8e186"
            ],
            [
             0.8,
             "#7fbc41"
            ],
            [
             0.9,
             "#4d9221"
            ],
            [
             1,
             "#276419"
            ]
           ],
           "sequential": [
            [
             0,
             "#0d0887"
            ],
            [
             0.1111111111111111,
             "#46039f"
            ],
            [
             0.2222222222222222,
             "#7201a8"
            ],
            [
             0.3333333333333333,
             "#9c179e"
            ],
            [
             0.4444444444444444,
             "#bd3786"
            ],
            [
             0.5555555555555556,
             "#d8576b"
            ],
            [
             0.6666666666666666,
             "#ed7953"
            ],
            [
             0.7777777777777778,
             "#fb9f3a"
            ],
            [
             0.8888888888888888,
             "#fdca26"
            ],
            [
             1,
             "#f0f921"
            ]
           ],
           "sequentialminus": [
            [
             0,
             "#0d0887"
            ],
            [
             0.1111111111111111,
             "#46039f"
            ],
            [
             0.2222222222222222,
             "#7201a8"
            ],
            [
             0.3333333333333333,
             "#9c179e"
            ],
            [
             0.4444444444444444,
             "#bd3786"
            ],
            [
             0.5555555555555556,
             "#d8576b"
            ],
            [
             0.6666666666666666,
             "#ed7953"
            ],
            [
             0.7777777777777778,
             "#fb9f3a"
            ],
            [
             0.8888888888888888,
             "#fdca26"
            ],
            [
             1,
             "#f0f921"
            ]
           ]
          },
          "colorway": [
           "#636efa",
           "#EF553B",
           "#00cc96",
           "#ab63fa",
           "#FFA15A",
           "#19d3f3",
           "#FF6692",
           "#B6E880",
           "#FF97FF",
           "#FECB52"
          ],
          "font": {
           "color": "#2a3f5f"
          },
          "geo": {
           "bgcolor": "white",
           "lakecolor": "white",
           "landcolor": "#E5ECF6",
           "showlakes": true,
           "showland": true,
           "subunitcolor": "white"
          },
          "hoverlabel": {
           "align": "left"
          },
          "hovermode": "closest",
          "mapbox": {
           "style": "light"
          },
          "paper_bgcolor": "white",
          "plot_bgcolor": "#E5ECF6",
          "polar": {
           "angularaxis": {
            "gridcolor": "white",
            "linecolor": "white",
            "ticks": ""
           },
           "bgcolor": "#E5ECF6",
           "radialaxis": {
            "gridcolor": "white",
            "linecolor": "white",
            "ticks": ""
           }
          },
          "scene": {
           "xaxis": {
            "backgroundcolor": "#E5ECF6",
            "gridcolor": "white",
            "gridwidth": 2,
            "linecolor": "white",
            "showbackground": true,
            "ticks": "",
            "zerolinecolor": "white"
           },
           "yaxis": {
            "backgroundcolor": "#E5ECF6",
            "gridcolor": "white",
            "gridwidth": 2,
            "linecolor": "white",
            "showbackground": true,
            "ticks": "",
            "zerolinecolor": "white"
           },
           "zaxis": {
            "backgroundcolor": "#E5ECF6",
            "gridcolor": "white",
            "gridwidth": 2,
            "linecolor": "white",
            "showbackground": true,
            "ticks": "",
            "zerolinecolor": "white"
           }
          },
          "shapedefaults": {
           "line": {
            "color": "#2a3f5f"
           }
          },
          "ternary": {
           "aaxis": {
            "gridcolor": "white",
            "linecolor": "white",
            "ticks": ""
           },
           "baxis": {
            "gridcolor": "white",
            "linecolor": "white",
            "ticks": ""
           },
           "bgcolor": "#E5ECF6",
           "caxis": {
            "gridcolor": "white",
            "linecolor": "white",
            "ticks": ""
           }
          },
          "title": {
           "x": 0.05
          },
          "xaxis": {
           "automargin": true,
           "gridcolor": "white",
           "linecolor": "white",
           "ticks": "",
           "title": {
            "standoff": 15
           },
           "zerolinecolor": "white",
           "zerolinewidth": 2
          },
          "yaxis": {
           "automargin": true,
           "gridcolor": "white",
           "linecolor": "white",
           "ticks": "",
           "title": {
            "standoff": 15
           },
           "zerolinecolor": "white",
           "zerolinewidth": 2
          }
         }
        },
        "title": {
         "text": "<b>Comparison total income of Strategies and The Best Vault USDN </b>"
        },
        "xaxis": {
         "anchor": "y",
         "domain": [
          0,
          0.94
         ],
         "title": {
          "text": "Step"
         }
        },
        "yaxis": {
         "anchor": "x",
         "domain": [
          0,
          1
         ]
        },
        "yaxis2": {
         "anchor": "x",
         "overlaying": "y",
         "side": "right"
        }
       }
      }
     },
     "metadata": {},
     "output_type": "display_data"
    }
   ],
   "source": [
    "fig = make_subplots(subplot_titles=('' ), specs=[[{\"secondary_y\": True}]])\n",
    "\n",
    "fig.add_trace(go.Scatter(x=x, y=tot_profit1, line=dict(color='red'), name='Strategy 1 - Price Velosity'), secondary_y=False)\n",
    "fig.add_trace(go.Scatter(x=x, y=tot_profit2, line=dict(color='green'), name='Strategy 2 - TVL Velosity'), secondary_y=False)\n",
    "fig.add_trace(go.Scatter(x=x, y=tot_profit3, line=dict(color='grey'), name='Strategy 3 - TVL'), secondary_y=False)\n",
    "fig.add_trace(go.Scatter(x=k, y=profit_fund1, line=dict(color='black'), name='MIM Total'), secondary_y=False)\n",
    "fig.add_trace(go.Scatter(x=k, y=profit_fund3, line=dict(color='blue'), name='USDN Total'), secondary_y=False)\n",
    "\n",
    "fig.update_layout(title_text='<b>Comparison total income of Strategies and The Best Vault USDN </b>')\n",
    "fig.update_xaxes(title_text='Step')\n",
    "fig.show()"
   ]
  },
  {
   "cell_type": "code",
   "execution_count": 23,
   "metadata": {},
   "outputs": [
    {
     "data": {
      "application/vnd.plotly.v1+json": {
       "config": {
        "plotlyServerURL": "https://plot.ly"
       },
       "data": [
        {
         "line": {
          "color": "green"
         },
         "name": "MIM",
         "type": "scatter",
         "x": [
          0,
          1,
          2,
          3,
          4,
          5,
          6,
          7,
          8,
          9,
          10,
          11,
          12,
          13,
          14,
          15,
          16,
          17,
          18,
          19,
          20,
          21,
          22,
          23,
          24,
          25,
          26,
          27,
          28,
          29,
          30,
          31,
          32,
          33,
          34,
          35,
          36,
          37,
          38,
          39,
          40,
          41,
          42,
          43,
          44,
          45,
          46,
          47,
          48,
          49,
          50,
          51,
          52,
          53,
          54,
          55,
          56,
          57,
          58
         ],
         "xaxis": "x",
         "y": [
          7499.999999999174,
          7499.999999999174,
          5999.999999999339,
          15000.000000001679,
          5999.999999999339,
          4499.999999999504,
          5999.999999999339,
          6000.00000000267,
          5999.999999999339,
          4499.999999999504,
          5999.999999999339,
          16500.000000001513,
          5999.999999999339,
          5999.999999999339,
          5999.999999999339,
          7500.000000002505,
          7499.999999999174,
          16499.99999999818,
          7500.000000002505,
          5999.999999999339,
          5999.999999999339,
          7499.999999999174,
          5999.999999999339,
          6000.00000000267,
          17999.999999998017,
          7500.000000002505,
          7499.999999999174,
          4499.999999999504,
          5999.999999999339,
          5999.999999999339,
          2999.9999999996694,
          15000.000000001679,
          7499.999999999174,
          5999.999999999339,
          6000.00000000267,
          5999.999999999339,
          5999.999999999339,
          5999.999999999339,
          5999.999999999339,
          15000.000000001679,
          4499.999999999504,
          4499.999999999504,
          5999.999999999339,
          4499.999999999504,
          4500.000000002835,
          13499.999999998514,
          7499.999999999174,
          6000.00000000267,
          4499.999999999504,
          10499.999999998843,
          10499.999999998843,
          4500.000000002835,
          13499.999999998514,
          8999.999999999009,
          7500.000000002505,
          5999.999999999339,
          4499.999999999504,
          7499.999999999174,
          4499.999999999504
         ],
         "yaxis": "y"
        },
        {
         "line": {
          "color": "black"
         },
         "name": "USDN",
         "type": "scatter",
         "x": [
          0,
          1,
          2,
          3,
          4,
          5,
          6,
          7,
          8,
          9,
          10,
          11,
          12,
          13,
          14,
          15,
          16,
          17,
          18,
          19,
          20,
          21,
          22,
          23,
          24,
          25,
          26,
          27,
          28,
          29,
          30,
          31,
          32,
          33,
          34,
          35,
          36,
          37,
          38,
          39,
          40,
          41,
          42,
          43,
          44,
          45,
          46,
          47,
          48,
          49,
          50,
          51,
          52,
          53,
          54,
          55,
          56,
          57,
          58
         ],
         "xaxis": "x",
         "y": [
          7499.999999999174,
          7499.999999999174,
          5999.999999999339,
          15000.000000001679,
          5999.999999999339,
          4499.999999999504,
          5999.999999999339,
          6000.00000000267,
          5999.999999999339,
          4499.999999999504,
          5999.999999999339,
          16500.000000001513,
          5999.999999999339,
          5999.999999999339,
          5999.999999999339,
          7500.000000002505,
          7499.999999999174,
          16499.99999999818,
          7500.000000002505,
          5999.999999999339,
          5999.999999999339,
          7499.999999999174,
          5999.999999999339,
          6000.00000000267,
          17999.999999998017,
          7500.000000002505,
          7499.999999999174,
          4499.999999999504,
          5999.999999999339,
          5999.999999999339,
          2999.9999999996694,
          15000.000000001679,
          7499.999999999174,
          5999.999999999339,
          6000.00000000267,
          5999.999999999339,
          5999.999999999339,
          5999.999999999339,
          5999.999999999339,
          15000.000000001679,
          4499.999999999504,
          4499.999999999504,
          5999.999999999339,
          4499.999999999504,
          4500.000000002835,
          13499.999999998514,
          7499.999999999174,
          6000.00000000267,
          4499.999999999504,
          10499.999999998843,
          10499.999999998843,
          4500.000000002835,
          13499.999999998514,
          8999.999999999009,
          7500.000000002505,
          5999.999999999339,
          4499.999999999504,
          7499.999999999174,
          4499.999999999504
         ],
         "yaxis": "y"
        },
        {
         "line": {
          "color": "red"
         },
         "name": "Strategy 1- Price Velosity",
         "type": "scatter",
         "x": [
          0,
          1,
          2,
          3,
          4,
          5,
          6,
          7,
          8,
          9,
          10,
          11,
          12,
          13,
          14,
          15,
          16,
          17,
          18,
          19,
          20,
          21,
          22,
          23,
          24,
          25,
          26,
          27,
          28,
          29,
          30,
          31,
          32,
          33,
          34,
          35,
          36,
          37,
          38,
          39,
          40,
          41,
          42,
          43,
          44,
          45,
          46,
          47,
          48,
          49,
          50,
          51,
          52,
          53,
          54,
          55,
          56,
          57,
          58
         ],
         "xaxis": "x",
         "y": [
          2099.9999999997685,
          5357.1428571422675,
          2083.333333333104,
          12000.000000001453,
          4349.999999999721,
          2454.5454545446887,
          3899.9999999995703,
          5100.00000000077,
          6000.000000000364,
          1499.999999999557,
          2249.999999999128,
          5500.000000000505,
          6.572395937064208,
          2181.8181818179414,
          5999.999999999339,
          1250.0000000003017,
          7499.999999999174,
          6346.153846153147,
          3750.000000000873,
          2307.692307692684,
          2192.307692307392,
          3249.999999999318,
          6749.999999999257,
          727.2727272730019,
          17999.99999999802,
          4857.142857145494,
          7285.714285715522,
          681.8181818180608,
          1616.3793103446362,
          4799.999999999472,
          2999.9999999996694,
          535.7142857143032,
          3899.999999999677,
          2117.6470588231577,
          8250.000000002421,
          2875.0000000000073,
          6599.999999999273,
          2464.285714285247,
          6900.000000000906,
          3281.25000000012,
          2999.9999999998913,
          3374.9999999996285,
          9750.00000000184,
          947.3684210523057,
          4500.000000002835,
          3364.8648648649005,
          9617.647058824037,
          8250.000000000875,
          4218.749999999802,
          7599.999999999149,
          3907.894736841218,
          10083.33333333537,
          6525.00000000033,
          10200.00000000021,
          1984.6153846156285,
          8624.999999998565,
          6750.000000001199,
          3258.6206896552335,
          2779.4117647053945
         ],
         "yaxis": "y2"
        }
       ],
       "layout": {
        "template": {
         "data": {
          "bar": [
           {
            "error_x": {
             "color": "#2a3f5f"
            },
            "error_y": {
             "color": "#2a3f5f"
            },
            "marker": {
             "line": {
              "color": "#E5ECF6",
              "width": 0.5
             },
             "pattern": {
              "fillmode": "overlay",
              "size": 10,
              "solidity": 0.2
             }
            },
            "type": "bar"
           }
          ],
          "barpolar": [
           {
            "marker": {
             "line": {
              "color": "#E5ECF6",
              "width": 0.5
             },
             "pattern": {
              "fillmode": "overlay",
              "size": 10,
              "solidity": 0.2
             }
            },
            "type": "barpolar"
           }
          ],
          "carpet": [
           {
            "aaxis": {
             "endlinecolor": "#2a3f5f",
             "gridcolor": "white",
             "linecolor": "white",
             "minorgridcolor": "white",
             "startlinecolor": "#2a3f5f"
            },
            "baxis": {
             "endlinecolor": "#2a3f5f",
             "gridcolor": "white",
             "linecolor": "white",
             "minorgridcolor": "white",
             "startlinecolor": "#2a3f5f"
            },
            "type": "carpet"
           }
          ],
          "choropleth": [
           {
            "colorbar": {
             "outlinewidth": 0,
             "ticks": ""
            },
            "type": "choropleth"
           }
          ],
          "contour": [
           {
            "colorbar": {
             "outlinewidth": 0,
             "ticks": ""
            },
            "colorscale": [
             [
              0,
              "#0d0887"
             ],
             [
              0.1111111111111111,
              "#46039f"
             ],
             [
              0.2222222222222222,
              "#7201a8"
             ],
             [
              0.3333333333333333,
              "#9c179e"
             ],
             [
              0.4444444444444444,
              "#bd3786"
             ],
             [
              0.5555555555555556,
              "#d8576b"
             ],
             [
              0.6666666666666666,
              "#ed7953"
             ],
             [
              0.7777777777777778,
              "#fb9f3a"
             ],
             [
              0.8888888888888888,
              "#fdca26"
             ],
             [
              1,
              "#f0f921"
             ]
            ],
            "type": "contour"
           }
          ],
          "contourcarpet": [
           {
            "colorbar": {
             "outlinewidth": 0,
             "ticks": ""
            },
            "type": "contourcarpet"
           }
          ],
          "heatmap": [
           {
            "colorbar": {
             "outlinewidth": 0,
             "ticks": ""
            },
            "colorscale": [
             [
              0,
              "#0d0887"
             ],
             [
              0.1111111111111111,
              "#46039f"
             ],
             [
              0.2222222222222222,
              "#7201a8"
             ],
             [
              0.3333333333333333,
              "#9c179e"
             ],
             [
              0.4444444444444444,
              "#bd3786"
             ],
             [
              0.5555555555555556,
              "#d8576b"
             ],
             [
              0.6666666666666666,
              "#ed7953"
             ],
             [
              0.7777777777777778,
              "#fb9f3a"
             ],
             [
              0.8888888888888888,
              "#fdca26"
             ],
             [
              1,
              "#f0f921"
             ]
            ],
            "type": "heatmap"
           }
          ],
          "heatmapgl": [
           {
            "colorbar": {
             "outlinewidth": 0,
             "ticks": ""
            },
            "colorscale": [
             [
              0,
              "#0d0887"
             ],
             [
              0.1111111111111111,
              "#46039f"
             ],
             [
              0.2222222222222222,
              "#7201a8"
             ],
             [
              0.3333333333333333,
              "#9c179e"
             ],
             [
              0.4444444444444444,
              "#bd3786"
             ],
             [
              0.5555555555555556,
              "#d8576b"
             ],
             [
              0.6666666666666666,
              "#ed7953"
             ],
             [
              0.7777777777777778,
              "#fb9f3a"
             ],
             [
              0.8888888888888888,
              "#fdca26"
             ],
             [
              1,
              "#f0f921"
             ]
            ],
            "type": "heatmapgl"
           }
          ],
          "histogram": [
           {
            "marker": {
             "pattern": {
              "fillmode": "overlay",
              "size": 10,
              "solidity": 0.2
             }
            },
            "type": "histogram"
           }
          ],
          "histogram2d": [
           {
            "colorbar": {
             "outlinewidth": 0,
             "ticks": ""
            },
            "colorscale": [
             [
              0,
              "#0d0887"
             ],
             [
              0.1111111111111111,
              "#46039f"
             ],
             [
              0.2222222222222222,
              "#7201a8"
             ],
             [
              0.3333333333333333,
              "#9c179e"
             ],
             [
              0.4444444444444444,
              "#bd3786"
             ],
             [
              0.5555555555555556,
              "#d8576b"
             ],
             [
              0.6666666666666666,
              "#ed7953"
             ],
             [
              0.7777777777777778,
              "#fb9f3a"
             ],
             [
              0.8888888888888888,
              "#fdca26"
             ],
             [
              1,
              "#f0f921"
             ]
            ],
            "type": "histogram2d"
           }
          ],
          "histogram2dcontour": [
           {
            "colorbar": {
             "outlinewidth": 0,
             "ticks": ""
            },
            "colorscale": [
             [
              0,
              "#0d0887"
             ],
             [
              0.1111111111111111,
              "#46039f"
             ],
             [
              0.2222222222222222,
              "#7201a8"
             ],
             [
              0.3333333333333333,
              "#9c179e"
             ],
             [
              0.4444444444444444,
              "#bd3786"
             ],
             [
              0.5555555555555556,
              "#d8576b"
             ],
             [
              0.6666666666666666,
              "#ed7953"
             ],
             [
              0.7777777777777778,
              "#fb9f3a"
             ],
             [
              0.8888888888888888,
              "#fdca26"
             ],
             [
              1,
              "#f0f921"
             ]
            ],
            "type": "histogram2dcontour"
           }
          ],
          "mesh3d": [
           {
            "colorbar": {
             "outlinewidth": 0,
             "ticks": ""
            },
            "type": "mesh3d"
           }
          ],
          "parcoords": [
           {
            "line": {
             "colorbar": {
              "outlinewidth": 0,
              "ticks": ""
             }
            },
            "type": "parcoords"
           }
          ],
          "pie": [
           {
            "automargin": true,
            "type": "pie"
           }
          ],
          "scatter": [
           {
            "marker": {
             "colorbar": {
              "outlinewidth": 0,
              "ticks": ""
             }
            },
            "type": "scatter"
           }
          ],
          "scatter3d": [
           {
            "line": {
             "colorbar": {
              "outlinewidth": 0,
              "ticks": ""
             }
            },
            "marker": {
             "colorbar": {
              "outlinewidth": 0,
              "ticks": ""
             }
            },
            "type": "scatter3d"
           }
          ],
          "scattercarpet": [
           {
            "marker": {
             "colorbar": {
              "outlinewidth": 0,
              "ticks": ""
             }
            },
            "type": "scattercarpet"
           }
          ],
          "scattergeo": [
           {
            "marker": {
             "colorbar": {
              "outlinewidth": 0,
              "ticks": ""
             }
            },
            "type": "scattergeo"
           }
          ],
          "scattergl": [
           {
            "marker": {
             "colorbar": {
              "outlinewidth": 0,
              "ticks": ""
             }
            },
            "type": "scattergl"
           }
          ],
          "scattermapbox": [
           {
            "marker": {
             "colorbar": {
              "outlinewidth": 0,
              "ticks": ""
             }
            },
            "type": "scattermapbox"
           }
          ],
          "scatterpolar": [
           {
            "marker": {
             "colorbar": {
              "outlinewidth": 0,
              "ticks": ""
             }
            },
            "type": "scatterpolar"
           }
          ],
          "scatterpolargl": [
           {
            "marker": {
             "colorbar": {
              "outlinewidth": 0,
              "ticks": ""
             }
            },
            "type": "scatterpolargl"
           }
          ],
          "scatterternary": [
           {
            "marker": {
             "colorbar": {
              "outlinewidth": 0,
              "ticks": ""
             }
            },
            "type": "scatterternary"
           }
          ],
          "surface": [
           {
            "colorbar": {
             "outlinewidth": 0,
             "ticks": ""
            },
            "colorscale": [
             [
              0,
              "#0d0887"
             ],
             [
              0.1111111111111111,
              "#46039f"
             ],
             [
              0.2222222222222222,
              "#7201a8"
             ],
             [
              0.3333333333333333,
              "#9c179e"
             ],
             [
              0.4444444444444444,
              "#bd3786"
             ],
             [
              0.5555555555555556,
              "#d8576b"
             ],
             [
              0.6666666666666666,
              "#ed7953"
             ],
             [
              0.7777777777777778,
              "#fb9f3a"
             ],
             [
              0.8888888888888888,
              "#fdca26"
             ],
             [
              1,
              "#f0f921"
             ]
            ],
            "type": "surface"
           }
          ],
          "table": [
           {
            "cells": {
             "fill": {
              "color": "#EBF0F8"
             },
             "line": {
              "color": "white"
             }
            },
            "header": {
             "fill": {
              "color": "#C8D4E3"
             },
             "line": {
              "color": "white"
             }
            },
            "type": "table"
           }
          ]
         },
         "layout": {
          "annotationdefaults": {
           "arrowcolor": "#2a3f5f",
           "arrowhead": 0,
           "arrowwidth": 1
          },
          "autotypenumbers": "strict",
          "coloraxis": {
           "colorbar": {
            "outlinewidth": 0,
            "ticks": ""
           }
          },
          "colorscale": {
           "diverging": [
            [
             0,
             "#8e0152"
            ],
            [
             0.1,
             "#c51b7d"
            ],
            [
             0.2,
             "#de77ae"
            ],
            [
             0.3,
             "#f1b6da"
            ],
            [
             0.4,
             "#fde0ef"
            ],
            [
             0.5,
             "#f7f7f7"
            ],
            [
             0.6,
             "#e6f5d0"
            ],
            [
             0.7,
             "#b8e186"
            ],
            [
             0.8,
             "#7fbc41"
            ],
            [
             0.9,
             "#4d9221"
            ],
            [
             1,
             "#276419"
            ]
           ],
           "sequential": [
            [
             0,
             "#0d0887"
            ],
            [
             0.1111111111111111,
             "#46039f"
            ],
            [
             0.2222222222222222,
             "#7201a8"
            ],
            [
             0.3333333333333333,
             "#9c179e"
            ],
            [
             0.4444444444444444,
             "#bd3786"
            ],
            [
             0.5555555555555556,
             "#d8576b"
            ],
            [
             0.6666666666666666,
             "#ed7953"
            ],
            [
             0.7777777777777778,
             "#fb9f3a"
            ],
            [
             0.8888888888888888,
             "#fdca26"
            ],
            [
             1,
             "#f0f921"
            ]
           ],
           "sequentialminus": [
            [
             0,
             "#0d0887"
            ],
            [
             0.1111111111111111,
             "#46039f"
            ],
            [
             0.2222222222222222,
             "#7201a8"
            ],
            [
             0.3333333333333333,
             "#9c179e"
            ],
            [
             0.4444444444444444,
             "#bd3786"
            ],
            [
             0.5555555555555556,
             "#d8576b"
            ],
            [
             0.6666666666666666,
             "#ed7953"
            ],
            [
             0.7777777777777778,
             "#fb9f3a"
            ],
            [
             0.8888888888888888,
             "#fdca26"
            ],
            [
             1,
             "#f0f921"
            ]
           ]
          },
          "colorway": [
           "#636efa",
           "#EF553B",
           "#00cc96",
           "#ab63fa",
           "#FFA15A",
           "#19d3f3",
           "#FF6692",
           "#B6E880",
           "#FF97FF",
           "#FECB52"
          ],
          "font": {
           "color": "#2a3f5f"
          },
          "geo": {
           "bgcolor": "white",
           "lakecolor": "white",
           "landcolor": "#E5ECF6",
           "showlakes": true,
           "showland": true,
           "subunitcolor": "white"
          },
          "hoverlabel": {
           "align": "left"
          },
          "hovermode": "closest",
          "mapbox": {
           "style": "light"
          },
          "paper_bgcolor": "white",
          "plot_bgcolor": "#E5ECF6",
          "polar": {
           "angularaxis": {
            "gridcolor": "white",
            "linecolor": "white",
            "ticks": ""
           },
           "bgcolor": "#E5ECF6",
           "radialaxis": {
            "gridcolor": "white",
            "linecolor": "white",
            "ticks": ""
           }
          },
          "scene": {
           "xaxis": {
            "backgroundcolor": "#E5ECF6",
            "gridcolor": "white",
            "gridwidth": 2,
            "linecolor": "white",
            "showbackground": true,
            "ticks": "",
            "zerolinecolor": "white"
           },
           "yaxis": {
            "backgroundcolor": "#E5ECF6",
            "gridcolor": "white",
            "gridwidth": 2,
            "linecolor": "white",
            "showbackground": true,
            "ticks": "",
            "zerolinecolor": "white"
           },
           "zaxis": {
            "backgroundcolor": "#E5ECF6",
            "gridcolor": "white",
            "gridwidth": 2,
            "linecolor": "white",
            "showbackground": true,
            "ticks": "",
            "zerolinecolor": "white"
           }
          },
          "shapedefaults": {
           "line": {
            "color": "#2a3f5f"
           }
          },
          "ternary": {
           "aaxis": {
            "gridcolor": "white",
            "linecolor": "white",
            "ticks": ""
           },
           "baxis": {
            "gridcolor": "white",
            "linecolor": "white",
            "ticks": ""
           },
           "bgcolor": "#E5ECF6",
           "caxis": {
            "gridcolor": "white",
            "linecolor": "white",
            "ticks": ""
           }
          },
          "title": {
           "x": 0.05
          },
          "xaxis": {
           "automargin": true,
           "gridcolor": "white",
           "linecolor": "white",
           "ticks": "",
           "title": {
            "standoff": 15
           },
           "zerolinecolor": "white",
           "zerolinewidth": 2
          },
          "yaxis": {
           "automargin": true,
           "gridcolor": "white",
           "linecolor": "white",
           "ticks": "",
           "title": {
            "standoff": 15
           },
           "zerolinecolor": "white",
           "zerolinewidth": 2
          }
         }
        },
        "title": {
         "text": "<b>Comparison of every day Profit of USDN Vault and Best Strategy in USD </b>"
        },
        "xaxis": {
         "anchor": "y",
         "domain": [
          0,
          0.94
         ],
         "title": {
          "text": "Step"
         }
        },
        "yaxis": {
         "anchor": "x",
         "domain": [
          0,
          1
         ]
        },
        "yaxis2": {
         "anchor": "x",
         "overlaying": "y",
         "side": "right"
        }
       }
      }
     },
     "metadata": {},
     "output_type": "display_data"
    }
   ],
   "source": [
    "fig = make_subplots(subplot_titles=('' ), specs=[[{\"secondary_y\": True}]])\n",
    "\n",
    "fig.add_trace(go.Scatter(x=k, y=profit3, line=dict(color='green'), name='MIM'), secondary_y=False)\n",
    "fig.add_trace(go.Scatter(x=k, y=profit3, line=dict(color='black'), name='USDN'), secondary_y=False)\n",
    "fig.add_trace(go.Scatter(x=k, y=profit_day1, line=dict(color='red'), name='Strategy 1- Price Velosity'), secondary_y=True)\n",
    "\n",
    "\n",
    "fig.update_layout(title_text='<b>Comparison of every day Profit of USDN Vault and Best Strategy in USD </b>')\n",
    "fig.update_xaxes(title_text='Step')\n",
    "fig.show()"
   ]
  },
  {
   "cell_type": "code",
   "execution_count": 24,
   "metadata": {},
   "outputs": [
    {
     "data": {
      "application/vnd.plotly.v1+json": {
       "config": {
        "plotlyServerURL": "https://plot.ly"
       },
       "data": [
        {
         "line": {
          "color": "red"
         },
         "name": "MIM",
         "type": "scatter",
         "x": [
          0,
          1,
          2,
          3,
          4,
          5,
          6,
          7,
          8,
          9,
          10,
          11,
          12,
          13,
          14,
          15,
          16,
          17,
          18,
          19,
          20,
          21,
          22,
          23,
          24,
          25,
          26,
          27,
          28,
          29,
          30,
          31,
          32,
          33,
          34,
          35,
          36,
          37,
          38,
          39,
          40,
          41,
          42,
          43,
          44,
          45,
          46,
          47,
          48,
          49,
          50,
          51,
          52,
          53,
          54,
          55,
          56,
          57,
          58
         ],
         "xaxis": "x",
         "y": [
          20,
          0,
          0,
          0,
          0,
          0,
          0,
          0,
          0,
          0,
          0,
          0,
          99.77096195976894,
          0,
          0,
          0,
          0,
          7.692307692307692,
          0,
          0,
          46.15384615385075,
          8.33333333333179,
          0,
          30.303030303028265,
          0,
          4.761904761904762,
          0,
          0,
          97.41379310344857,
          20,
          0,
          0,
          0,
          20.5882352941163,
          50,
          58.33333333333024,
          20,
          21.42857142856973,
          50,
          18.750000000004338,
          33.3333333333284,
          0,
          25,
          47.36842105263219,
          0,
          18.91891891891665,
          47.05882352941176,
          57.14285714286393,
          21.874999999995445,
          73.33333333333728,
          13.15789473684057,
          55.55555555555556,
          50,
          40,
          12.307692307694461,
          58.33333333332254,
          58.333333333333336,
          20.68965517241828,
          23.529411764704342
         ],
         "yaxis": "y"
        },
        {
         "line": {
          "color": "green"
         },
         "name": "FRAX",
         "type": "scatter",
         "x": [
          0,
          1,
          2,
          3,
          4,
          5,
          6,
          7,
          8,
          9,
          10,
          11,
          12,
          13,
          14,
          15,
          16,
          17,
          18,
          19,
          20,
          21,
          22,
          23,
          24,
          25,
          26,
          27,
          28,
          29,
          30,
          31,
          32,
          33,
          34,
          35,
          36,
          37,
          38,
          39,
          40,
          41,
          42,
          43,
          44,
          45,
          46,
          47,
          48,
          49,
          50,
          51,
          52,
          53,
          54,
          55,
          56,
          57,
          58
         ],
         "xaxis": "x",
         "y": [
          20,
          0,
          44.44444444444444,
          0,
          9.99999999999778,
          54.54545454546372,
          0,
          20,
          38.461538461531894,
          33.33333333332716,
          0,
          0,
          0.1194981079466331,
          0,
          0,
          49.99999999999538,
          0,
          0,
          50.00000000000505,
          0,
          38.46153846153518,
          8.33333333333179,
          0,
          33.33333333333782,
          0,
          0,
          0,
          57.57575757576042,
          0,
          0,
          0,
          0,
          0,
          61.76470588235543,
          0,
          8.333333333330248,
          0,
          0,
          0,
          68.7499999999974,
          0,
          24.999999999999996,
          0,
          0,
          0,
          70.27027027026783,
          0,
          0,
          0,
          0,
          68.42105263158264,
          0,
          4.99999999999889,
          0,
          41.5384615384607,
          0,
          0,
          68.9655172413764,
          0
         ],
         "yaxis": "y"
        },
        {
         "line": {
          "color": "grey"
         },
         "name": "USDN",
         "type": "scatter",
         "x": [
          0,
          1,
          2,
          3,
          4,
          5,
          6,
          7,
          8,
          9,
          10,
          11,
          12,
          13,
          14,
          15,
          16,
          17,
          18,
          19,
          20,
          21,
          22,
          23,
          24,
          25,
          26,
          27,
          28,
          29,
          30,
          31,
          32,
          33,
          34,
          35,
          36,
          37,
          38,
          39,
          40,
          41,
          42,
          43,
          44,
          45,
          46,
          47,
          48,
          49,
          50,
          51,
          52,
          53,
          54,
          55,
          56,
          57,
          58
         ],
         "xaxis": "x",
         "y": [
          20,
          71.42857142857143,
          27.77777777777778,
          66.66666666666666,
          50.000000000000014,
          36.36363636362902,
          30,
          40,
          30.769230769242593,
          33.33333333332716,
          37.49999999998959,
          33.33333333333333,
          0.10953993228441553,
          36.36363636363636,
          100,
          16.666666666665126,
          100,
          38.46153846153846,
          49.99999999999495,
          38.46153846154897,
          15.38461538461407,
          33.33333333332716,
          83.33333333333334,
          12.121212121211306,
          100,
          57.14285714285714,
          71.42857142855783,
          15.15151515151413,
          2.586206896551427,
          80,
          100,
          3.5714285714282883,
          40.000000000001776,
          14.705882352940217,
          50,
          33.3333333333395,
          80,
          14.285714285713153,
          40,
          12.499999999998266,
          66.66666666667159,
          75,
          12.5,
          21.052631578942446,
          100,
          8.108108108113136,
          52.94117647058824,
          35.71428571428006,
          12.500000000004338,
          19.99999999999704,
          18.421052631576796,
          38.888888888888886,
          15.000000000007772,
          60,
          9.230769230768285,
          41.666666666677465,
          33.33333333333333,
          10.344827586205312,
          14.705882352940217
         ],
         "yaxis": "y"
        },
        {
         "line": {
          "color": "blue"
         },
         "name": "alUSD",
         "type": "scatter",
         "x": [
          0,
          1,
          2,
          3,
          4,
          5,
          6,
          7,
          8,
          9,
          10,
          11,
          12,
          13,
          14,
          15,
          16,
          17,
          18,
          19,
          20,
          21,
          22,
          23,
          24,
          25,
          26,
          27,
          28,
          29,
          30,
          31,
          32,
          33,
          34,
          35,
          36,
          37,
          38,
          39,
          40,
          41,
          42,
          43,
          44,
          45,
          46,
          47,
          48,
          49,
          50,
          51,
          52,
          53,
          54,
          55,
          56,
          57,
          58
         ],
         "xaxis": "x",
         "y": [
          20,
          0,
          27.77777777777778,
          16.666666666666664,
          30.000000000004444,
          9.090909090907255,
          60,
          20,
          30.769230769225516,
          33.33333333334567,
          0,
          66.66666666666666,
          0,
          63.63636363636363,
          0,
          29.16666666667322,
          0,
          53.84615384615385,
          0,
          61.53846153845103,
          0,
          50.00000000000925,
          16.666666666666664,
          21.212121212119786,
          0,
          38.095238095238095,
          14.285714285736944,
          27.27272727272544,
          0,
          0,
          0,
          0,
          59.999999999998224,
          2.9411764705880428,
          0,
          0,
          0,
          64.28571428571712,
          0,
          0,
          0,
          0,
          62.5,
          31.578947368425354,
          0,
          2.702702702702378,
          0,
          0,
          62.499999999993925,
          0,
          0,
          5.5555555555555545,
          0,
          0,
          36.92307692307655,
          0,
          8.333333333333332,
          0,
          61.76470588235543
         ],
         "yaxis": "y"
        },
        {
         "line": {
          "color": "brown"
         },
         "name": "mUSD",
         "type": "scatter",
         "x": [
          0,
          1,
          2,
          3,
          4,
          5,
          6,
          7,
          8,
          9,
          10,
          11,
          12,
          13,
          14,
          15,
          16,
          17,
          18,
          19,
          20,
          21,
          22,
          23,
          24,
          25,
          26,
          27,
          28,
          29,
          30,
          31,
          32,
          33,
          34,
          35,
          36,
          37,
          38,
          39,
          40,
          41,
          42,
          43,
          44,
          45,
          46,
          47,
          48,
          49,
          50,
          51,
          52,
          53,
          54,
          55,
          56,
          57,
          58
         ],
         "xaxis": "x",
         "y": [
          20,
          28.57142857142857,
          0,
          16.666666666666664,
          9.99999999999778,
          0,
          10,
          20,
          0,
          0,
          62.5000000000104,
          0,
          0,
          0,
          0,
          4.1666666666662815,
          0,
          0,
          0,
          0,
          0,
          0,
          0,
          3.0303030303028264,
          0,
          0,
          14.285714285705224,
          0,
          0,
          0,
          0,
          96.42857142857171,
          0,
          0,
          0,
          0,
          0,
          0,
          10,
          0,
          0,
          0,
          0,
          0,
          0,
          0,
          0,
          7.14285714285601,
          3.125000000006288,
          6.66666666666568,
          0,
          0,
          29.99999999999334,
          0,
          0,
          0,
          0,
          0,
          0
         ],
         "yaxis": "y"
        }
       ],
       "layout": {
        "template": {
         "data": {
          "bar": [
           {
            "error_x": {
             "color": "#2a3f5f"
            },
            "error_y": {
             "color": "#2a3f5f"
            },
            "marker": {
             "line": {
              "color": "#E5ECF6",
              "width": 0.5
             },
             "pattern": {
              "fillmode": "overlay",
              "size": 10,
              "solidity": 0.2
             }
            },
            "type": "bar"
           }
          ],
          "barpolar": [
           {
            "marker": {
             "line": {
              "color": "#E5ECF6",
              "width": 0.5
             },
             "pattern": {
              "fillmode": "overlay",
              "size": 10,
              "solidity": 0.2
             }
            },
            "type": "barpolar"
           }
          ],
          "carpet": [
           {
            "aaxis": {
             "endlinecolor": "#2a3f5f",
             "gridcolor": "white",
             "linecolor": "white",
             "minorgridcolor": "white",
             "startlinecolor": "#2a3f5f"
            },
            "baxis": {
             "endlinecolor": "#2a3f5f",
             "gridcolor": "white",
             "linecolor": "white",
             "minorgridcolor": "white",
             "startlinecolor": "#2a3f5f"
            },
            "type": "carpet"
           }
          ],
          "choropleth": [
           {
            "colorbar": {
             "outlinewidth": 0,
             "ticks": ""
            },
            "type": "choropleth"
           }
          ],
          "contour": [
           {
            "colorbar": {
             "outlinewidth": 0,
             "ticks": ""
            },
            "colorscale": [
             [
              0,
              "#0d0887"
             ],
             [
              0.1111111111111111,
              "#46039f"
             ],
             [
              0.2222222222222222,
              "#7201a8"
             ],
             [
              0.3333333333333333,
              "#9c179e"
             ],
             [
              0.4444444444444444,
              "#bd3786"
             ],
             [
              0.5555555555555556,
              "#d8576b"
             ],
             [
              0.6666666666666666,
              "#ed7953"
             ],
             [
              0.7777777777777778,
              "#fb9f3a"
             ],
             [
              0.8888888888888888,
              "#fdca26"
             ],
             [
              1,
              "#f0f921"
             ]
            ],
            "type": "contour"
           }
          ],
          "contourcarpet": [
           {
            "colorbar": {
             "outlinewidth": 0,
             "ticks": ""
            },
            "type": "contourcarpet"
           }
          ],
          "heatmap": [
           {
            "colorbar": {
             "outlinewidth": 0,
             "ticks": ""
            },
            "colorscale": [
             [
              0,
              "#0d0887"
             ],
             [
              0.1111111111111111,
              "#46039f"
             ],
             [
              0.2222222222222222,
              "#7201a8"
             ],
             [
              0.3333333333333333,
              "#9c179e"
             ],
             [
              0.4444444444444444,
              "#bd3786"
             ],
             [
              0.5555555555555556,
              "#d8576b"
             ],
             [
              0.6666666666666666,
              "#ed7953"
             ],
             [
              0.7777777777777778,
              "#fb9f3a"
             ],
             [
              0.8888888888888888,
              "#fdca26"
             ],
             [
              1,
              "#f0f921"
             ]
            ],
            "type": "heatmap"
           }
          ],
          "heatmapgl": [
           {
            "colorbar": {
             "outlinewidth": 0,
             "ticks": ""
            },
            "colorscale": [
             [
              0,
              "#0d0887"
             ],
             [
              0.1111111111111111,
              "#46039f"
             ],
             [
              0.2222222222222222,
              "#7201a8"
             ],
             [
              0.3333333333333333,
              "#9c179e"
             ],
             [
              0.4444444444444444,
              "#bd3786"
             ],
             [
              0.5555555555555556,
              "#d8576b"
             ],
             [
              0.6666666666666666,
              "#ed7953"
             ],
             [
              0.7777777777777778,
              "#fb9f3a"
             ],
             [
              0.8888888888888888,
              "#fdca26"
             ],
             [
              1,
              "#f0f921"
             ]
            ],
            "type": "heatmapgl"
           }
          ],
          "histogram": [
           {
            "marker": {
             "pattern": {
              "fillmode": "overlay",
              "size": 10,
              "solidity": 0.2
             }
            },
            "type": "histogram"
           }
          ],
          "histogram2d": [
           {
            "colorbar": {
             "outlinewidth": 0,
             "ticks": ""
            },
            "colorscale": [
             [
              0,
              "#0d0887"
             ],
             [
              0.1111111111111111,
              "#46039f"
             ],
             [
              0.2222222222222222,
              "#7201a8"
             ],
             [
              0.3333333333333333,
              "#9c179e"
             ],
             [
              0.4444444444444444,
              "#bd3786"
             ],
             [
              0.5555555555555556,
              "#d8576b"
             ],
             [
              0.6666666666666666,
              "#ed7953"
             ],
             [
              0.7777777777777778,
              "#fb9f3a"
             ],
             [
              0.8888888888888888,
              "#fdca26"
             ],
             [
              1,
              "#f0f921"
             ]
            ],
            "type": "histogram2d"
           }
          ],
          "histogram2dcontour": [
           {
            "colorbar": {
             "outlinewidth": 0,
             "ticks": ""
            },
            "colorscale": [
             [
              0,
              "#0d0887"
             ],
             [
              0.1111111111111111,
              "#46039f"
             ],
             [
              0.2222222222222222,
              "#7201a8"
             ],
             [
              0.3333333333333333,
              "#9c179e"
             ],
             [
              0.4444444444444444,
              "#bd3786"
             ],
             [
              0.5555555555555556,
              "#d8576b"
             ],
             [
              0.6666666666666666,
              "#ed7953"
             ],
             [
              0.7777777777777778,
              "#fb9f3a"
             ],
             [
              0.8888888888888888,
              "#fdca26"
             ],
             [
              1,
              "#f0f921"
             ]
            ],
            "type": "histogram2dcontour"
           }
          ],
          "mesh3d": [
           {
            "colorbar": {
             "outlinewidth": 0,
             "ticks": ""
            },
            "type": "mesh3d"
           }
          ],
          "parcoords": [
           {
            "line": {
             "colorbar": {
              "outlinewidth": 0,
              "ticks": ""
             }
            },
            "type": "parcoords"
           }
          ],
          "pie": [
           {
            "automargin": true,
            "type": "pie"
           }
          ],
          "scatter": [
           {
            "marker": {
             "colorbar": {
              "outlinewidth": 0,
              "ticks": ""
             }
            },
            "type": "scatter"
           }
          ],
          "scatter3d": [
           {
            "line": {
             "colorbar": {
              "outlinewidth": 0,
              "ticks": ""
             }
            },
            "marker": {
             "colorbar": {
              "outlinewidth": 0,
              "ticks": ""
             }
            },
            "type": "scatter3d"
           }
          ],
          "scattercarpet": [
           {
            "marker": {
             "colorbar": {
              "outlinewidth": 0,
              "ticks": ""
             }
            },
            "type": "scattercarpet"
           }
          ],
          "scattergeo": [
           {
            "marker": {
             "colorbar": {
              "outlinewidth": 0,
              "ticks": ""
             }
            },
            "type": "scattergeo"
           }
          ],
          "scattergl": [
           {
            "marker": {
             "colorbar": {
              "outlinewidth": 0,
              "ticks": ""
             }
            },
            "type": "scattergl"
           }
          ],
          "scattermapbox": [
           {
            "marker": {
             "colorbar": {
              "outlinewidth": 0,
              "ticks": ""
             }
            },
            "type": "scattermapbox"
           }
          ],
          "scatterpolar": [
           {
            "marker": {
             "colorbar": {
              "outlinewidth": 0,
              "ticks": ""
             }
            },
            "type": "scatterpolar"
           }
          ],
          "scatterpolargl": [
           {
            "marker": {
             "colorbar": {
              "outlinewidth": 0,
              "ticks": ""
             }
            },
            "type": "scatterpolargl"
           }
          ],
          "scatterternary": [
           {
            "marker": {
             "colorbar": {
              "outlinewidth": 0,
              "ticks": ""
             }
            },
            "type": "scatterternary"
           }
          ],
          "surface": [
           {
            "colorbar": {
             "outlinewidth": 0,
             "ticks": ""
            },
            "colorscale": [
             [
              0,
              "#0d0887"
             ],
             [
              0.1111111111111111,
              "#46039f"
             ],
             [
              0.2222222222222222,
              "#7201a8"
             ],
             [
              0.3333333333333333,
              "#9c179e"
             ],
             [
              0.4444444444444444,
              "#bd3786"
             ],
             [
              0.5555555555555556,
              "#d8576b"
             ],
             [
              0.6666666666666666,
              "#ed7953"
             ],
             [
              0.7777777777777778,
              "#fb9f3a"
             ],
             [
              0.8888888888888888,
              "#fdca26"
             ],
             [
              1,
              "#f0f921"
             ]
            ],
            "type": "surface"
           }
          ],
          "table": [
           {
            "cells": {
             "fill": {
              "color": "#EBF0F8"
             },
             "line": {
              "color": "white"
             }
            },
            "header": {
             "fill": {
              "color": "#C8D4E3"
             },
             "line": {
              "color": "white"
             }
            },
            "type": "table"
           }
          ]
         },
         "layout": {
          "annotationdefaults": {
           "arrowcolor": "#2a3f5f",
           "arrowhead": 0,
           "arrowwidth": 1
          },
          "autotypenumbers": "strict",
          "coloraxis": {
           "colorbar": {
            "outlinewidth": 0,
            "ticks": ""
           }
          },
          "colorscale": {
           "diverging": [
            [
             0,
             "#8e0152"
            ],
            [
             0.1,
             "#c51b7d"
            ],
            [
             0.2,
             "#de77ae"
            ],
            [
             0.3,
             "#f1b6da"
            ],
            [
             0.4,
             "#fde0ef"
            ],
            [
             0.5,
             "#f7f7f7"
            ],
            [
             0.6,
             "#e6f5d0"
            ],
            [
             0.7,
             "#b8e186"
            ],
            [
             0.8,
             "#7fbc41"
            ],
            [
             0.9,
             "#4d9221"
            ],
            [
             1,
             "#276419"
            ]
           ],
           "sequential": [
            [
             0,
             "#0d0887"
            ],
            [
             0.1111111111111111,
             "#46039f"
            ],
            [
             0.2222222222222222,
             "#7201a8"
            ],
            [
             0.3333333333333333,
             "#9c179e"
            ],
            [
             0.4444444444444444,
             "#bd3786"
            ],
            [
             0.5555555555555556,
             "#d8576b"
            ],
            [
             0.6666666666666666,
             "#ed7953"
            ],
            [
             0.7777777777777778,
             "#fb9f3a"
            ],
            [
             0.8888888888888888,
             "#fdca26"
            ],
            [
             1,
             "#f0f921"
            ]
           ],
           "sequentialminus": [
            [
             0,
             "#0d0887"
            ],
            [
             0.1111111111111111,
             "#46039f"
            ],
            [
             0.2222222222222222,
             "#7201a8"
            ],
            [
             0.3333333333333333,
             "#9c179e"
            ],
            [
             0.4444444444444444,
             "#bd3786"
            ],
            [
             0.5555555555555556,
             "#d8576b"
            ],
            [
             0.6666666666666666,
             "#ed7953"
            ],
            [
             0.7777777777777778,
             "#fb9f3a"
            ],
            [
             0.8888888888888888,
             "#fdca26"
            ],
            [
             1,
             "#f0f921"
            ]
           ]
          },
          "colorway": [
           "#636efa",
           "#EF553B",
           "#00cc96",
           "#ab63fa",
           "#FFA15A",
           "#19d3f3",
           "#FF6692",
           "#B6E880",
           "#FF97FF",
           "#FECB52"
          ],
          "font": {
           "color": "#2a3f5f"
          },
          "geo": {
           "bgcolor": "white",
           "lakecolor": "white",
           "landcolor": "#E5ECF6",
           "showlakes": true,
           "showland": true,
           "subunitcolor": "white"
          },
          "hoverlabel": {
           "align": "left"
          },
          "hovermode": "closest",
          "mapbox": {
           "style": "light"
          },
          "paper_bgcolor": "white",
          "plot_bgcolor": "#E5ECF6",
          "polar": {
           "angularaxis": {
            "gridcolor": "white",
            "linecolor": "white",
            "ticks": ""
           },
           "bgcolor": "#E5ECF6",
           "radialaxis": {
            "gridcolor": "white",
            "linecolor": "white",
            "ticks": ""
           }
          },
          "scene": {
           "xaxis": {
            "backgroundcolor": "#E5ECF6",
            "gridcolor": "white",
            "gridwidth": 2,
            "linecolor": "white",
            "showbackground": true,
            "ticks": "",
            "zerolinecolor": "white"
           },
           "yaxis": {
            "backgroundcolor": "#E5ECF6",
            "gridcolor": "white",
            "gridwidth": 2,
            "linecolor": "white",
            "showbackground": true,
            "ticks": "",
            "zerolinecolor": "white"
           },
           "zaxis": {
            "backgroundcolor": "#E5ECF6",
            "gridcolor": "white",
            "gridwidth": 2,
            "linecolor": "white",
            "showbackground": true,
            "ticks": "",
            "zerolinecolor": "white"
           }
          },
          "shapedefaults": {
           "line": {
            "color": "#2a3f5f"
           }
          },
          "ternary": {
           "aaxis": {
            "gridcolor": "white",
            "linecolor": "white",
            "ticks": ""
           },
           "baxis": {
            "gridcolor": "white",
            "linecolor": "white",
            "ticks": ""
           },
           "bgcolor": "#E5ECF6",
           "caxis": {
            "gridcolor": "white",
            "linecolor": "white",
            "ticks": ""
           }
          },
          "title": {
           "x": 0.05
          },
          "xaxis": {
           "automargin": true,
           "gridcolor": "white",
           "linecolor": "white",
           "ticks": "",
           "title": {
            "standoff": 15
           },
           "zerolinecolor": "white",
           "zerolinewidth": 2
          },
          "yaxis": {
           "automargin": true,
           "gridcolor": "white",
           "linecolor": "white",
           "ticks": "",
           "title": {
            "standoff": 15
           },
           "zerolinecolor": "white",
           "zerolinewidth": 2
          }
         }
        },
        "title": {
         "text": "<b>Strategies 1 - Vaults Price Velosity - Percentage of Shares </b>"
        },
        "xaxis": {
         "anchor": "y",
         "domain": [
          0,
          0.94
         ],
         "range": [
          -3,
          61
         ],
         "title": {
          "text": "Step"
         }
        },
        "yaxis": {
         "anchor": "x",
         "domain": [
          0,
          1
         ],
         "range": [
          -5,
          110
         ]
        },
        "yaxis2": {
         "anchor": "x",
         "overlaying": "y",
         "side": "right"
        }
       }
      }
     },
     "metadata": {},
     "output_type": "display_data"
    }
   ],
   "source": [
    "fig = make_subplots(subplot_titles=('' ), specs=[[{\"secondary_y\": True}]])\n",
    "\n",
    "fig.add_trace(go.Scatter(x=x, y=pr_f11, line=dict(color='red'), name='MIM'), secondary_y=False)\n",
    "fig.add_trace(go.Scatter(x=x, y=pr_f12, line=dict(color='green'), name='FRAX'), secondary_y=False)\n",
    "fig.add_trace(go.Scatter(x=x, y=pr_f13, line=dict(color='grey'), name='USDN'), secondary_y=False)\n",
    "fig.add_trace(go.Scatter(x=x, y=pr_f14, line=dict(color='blue'), name='alUSD'), secondary_y=False)\n",
    "fig.add_trace(go.Scatter(x=x, y=pr_f15, line=dict(color='brown'), name='mUSD'), secondary_y=False)\n",
    "#fig.add_trace(go.Scatter(x=x, y=pr_f16, line=dict(color='light green'), name='BUSD'), secondary_y=False)\n",
    "fig.update_layout(yaxis_range=[-5,110])\n",
    "fig.update_layout(xaxis_range=[-3,len(tvl)+1])\n",
    "fig.update_layout(title_text='<b>Strategies 1 - Vaults Price Velosity - Percentage of Shares </b>')\n",
    "fig.update_xaxes(title_text='Step')\n",
    "fig.show()"
   ]
  },
  {
   "cell_type": "code",
   "execution_count": 25,
   "metadata": {},
   "outputs": [
    {
     "data": {
      "application/vnd.plotly.v1+json": {
       "config": {
        "plotlyServerURL": "https://plot.ly"
       },
       "data": [
        {
         "line": {
          "color": "red"
         },
         "name": "MIM",
         "type": "scatter",
         "x": [
          0,
          1,
          2,
          3,
          4,
          5,
          6,
          7,
          8,
          9,
          10,
          11,
          12,
          13,
          14,
          15,
          16,
          17,
          18,
          19,
          20,
          21,
          22,
          23,
          24,
          25,
          26,
          27,
          28,
          29,
          30,
          31,
          32,
          33,
          34,
          35,
          36,
          37,
          38,
          39,
          40,
          41,
          42,
          43,
          44,
          45,
          46,
          47,
          48,
          49,
          50,
          51,
          52,
          53,
          54,
          55,
          56,
          57,
          58
         ],
         "xaxis": "x",
         "y": [
          0,
          0,
          0,
          0,
          0,
          0,
          0,
          0,
          0,
          0,
          0,
          0,
          0,
          0,
          0,
          0,
          0,
          1.2229751965280569,
          0.16922973317869683,
          5.196671323118772,
          32.73529584847935,
          11.130447272512471,
          60.780836209514156,
          97.93118368485659,
          45.19211719242049,
          0,
          0,
          0,
          0.002521804745327273,
          8.274702614709186,
          0,
          99.9951484515373,
          98.49088629397247,
          24.86490899739857,
          99.99985434521219,
          97.81873762555848,
          73.40861698428499,
          0,
          41.40468677512344,
          83.53267008403176,
          99.99928188602777,
          89.89188896595239,
          91.06219928230135,
          82.7073884586408,
          93.62991060817738,
          60.719012820411855,
          62.450838902660756,
          96.95953514684817,
          58.37408524029457,
          94.20678549785296,
          60.507717171254605,
          96.01524044769188,
          59.67952314491241,
          0,
          99.99691126811163,
          0,
          39.03535723556894,
          85.81032023718801,
          65.96238101014086
         ],
         "yaxis": "y"
        },
        {
         "line": {
          "color": "green"
         },
         "name": "FRAX",
         "type": "scatter",
         "x": [
          0,
          1,
          2,
          3,
          4,
          5,
          6,
          7,
          8,
          9,
          10,
          11,
          12,
          13,
          14,
          15,
          16,
          17,
          18,
          19,
          20,
          21,
          22,
          23,
          24,
          25,
          26,
          27,
          28,
          29,
          30,
          31,
          32,
          33,
          34,
          35,
          36,
          37,
          38,
          39,
          40,
          41,
          42,
          43,
          44,
          45,
          46,
          47,
          48,
          49,
          50,
          51,
          52,
          53,
          54,
          55,
          56,
          57,
          58
         ],
         "xaxis": "x",
         "y": [
          0,
          0,
          0,
          0,
          3.6145744341132913,
          0.025305530915686967,
          13.41329940972445,
          0,
          0.5706554256353823,
          0.11080052227545882,
          0,
          99.9889151988066,
          0,
          0.022006705282304313,
          31.21191007779859,
          12.865220222161259,
          81.2453252055671,
          0.09921845085176223,
          1.9621687399869296,
          1.2608939855351655,
          0,
          0,
          6.279608739902953,
          0.0008083012043810418,
          33.222833619572924,
          13.35849248030149,
          6.1512963619764625,
          40.94202898550724,
          0.0043737551051769895,
          0,
          30.19852254226569,
          0,
          0.05224765211528139,
          63.56183754877887,
          0,
          2.181199535055676,
          0.0013123190286456594,
          0,
          20.68601175176495,
          0.0038488745928281424,
          0,
          0.04410374709343725,
          0.011814310660042886,
          0,
          0.7005830233668146,
          1.6841561975816723,
          3.549994158800343,
          0.6202802990562087,
          8.484233635154867,
          5.691157772504745,
          0.006058108229296057,
          0.32534234512029836,
          1.8501782044584243,
          52.800706694706875,
          0,
          0,
          2.2215228855612534,
          3.519846116528804,
          14.866918814948773
         ],
         "yaxis": "y"
        },
        {
         "line": {
          "color": "grey"
         },
         "name": "USDN",
         "type": "scatter",
         "x": [
          0,
          1,
          2,
          3,
          4,
          5,
          6,
          7,
          8,
          9,
          10,
          11,
          12,
          13,
          14,
          15,
          16,
          17,
          18,
          19,
          20,
          21,
          22,
          23,
          24,
          25,
          26,
          27,
          28,
          29,
          30,
          31,
          32,
          33,
          34,
          35,
          36,
          37,
          38,
          39,
          40,
          41,
          42,
          43,
          44,
          45,
          46,
          47,
          48,
          49,
          50,
          51,
          52,
          53,
          54,
          55,
          56,
          57,
          58
         ],
         "xaxis": "x",
         "y": [
          99.99973947669338,
          10.328871847670442,
          0,
          66.11890233289286,
          0,
          0,
          0,
          0,
          69.50673680024882,
          99.81164143109649,
          0,
          0,
          0,
          44.97794537341282,
          68.77151847201903,
          87.0016439354613,
          0,
          98.6778063526202,
          97.19645820963025,
          0,
          0,
          0,
          32.937022033780956,
          1.597944122627621,
          3.7114527723540673,
          86.64106441718944,
          89.49731447269667,
          0,
          99.83797404511272,
          0,
          0,
          0,
          1.4568513309299789,
          11.573073069852711,
          0,
          0,
          26.5900619833558,
          0,
          37.908816623908415,
          10.424131039140114,
          0,
          9.672045556952806,
          0,
          17.292594707281435,
          3.578708726484018,
          37.59673849885912,
          14.4013435479973,
          0,
          0,
          0,
          39.48622472051609,
          0,
          26.253784236603455,
          0,
          0,
          99.9749830707943,
          21.62128387949662,
          0,
          0
         ],
         "yaxis": "y"
        },
        {
         "line": {
          "color": "blue"
         },
         "name": "alUSD",
         "type": "scatter",
         "x": [
          0,
          1,
          2,
          3,
          4,
          5,
          6,
          7,
          8,
          9,
          10,
          11,
          12,
          13,
          14,
          15,
          16,
          17,
          18,
          19,
          20,
          21,
          22,
          23,
          24,
          25,
          26,
          27,
          28,
          29,
          30,
          31,
          32,
          33,
          34,
          35,
          36,
          37,
          38,
          39,
          40,
          41,
          42,
          43,
          44,
          45,
          46,
          47,
          48,
          49,
          50,
          51,
          52,
          53,
          54,
          55,
          56,
          57,
          58
         ],
         "xaxis": "x",
         "y": [
          0,
          89.67112815232956,
          64.1838781382658,
          33.8796975757436,
          96.3848633219037,
          99.9588453312038,
          86.58593331750433,
          0,
          29.922547122643582,
          0,
          99.99893655839642,
          0,
          99.99231425982828,
          54.99981794795878,
          0,
          0.13210228064447146,
          18.752845851916785,
          0,
          0.6721367662912032,
          93.54235996211375,
          67.26446872083687,
          88.86938445831389,
          0,
          0.47005776781743863,
          17.87349714400949,
          0,
          4.351285550961862,
          59.05797101449275,
          0.15513039503677303,
          91.2842487027117,
          0,
          0,
          0,
          0,
          0,
          0,
          0,
          100,
          0,
          6.039335147738048,
          0,
          0.3919574065284614,
          8.925933964422738,
          0,
          2.090763375226608,
          0,
          2.7312209059289025,
          0,
          0,
          0.07343116528629864,
          0,
          3.6594172071878246,
          2.4728556510735507,
          47.19502752342869,
          0,
          0,
          37.12096074915758,
          10.66856938916675,
          19.17070017491036
         ],
         "yaxis": "y"
        },
        {
         "line": {
          "color": "brown"
         },
         "name": "mUSD",
         "type": "scatter",
         "x": [
          0,
          1,
          2,
          3,
          4,
          5,
          6,
          7,
          8,
          9,
          10,
          11,
          12,
          13,
          14,
          15,
          16,
          17,
          18,
          19,
          20,
          21,
          22,
          23,
          24,
          25,
          26,
          27,
          28,
          29,
          30,
          31,
          32,
          33,
          34,
          35,
          36,
          37,
          38,
          39,
          40,
          41,
          42,
          43,
          44,
          45,
          46,
          47,
          48,
          49,
          50,
          51,
          52,
          53,
          54,
          55,
          56,
          57,
          58
         ],
         "xaxis": "x",
         "y": [
          0.00026052330661598794,
          0,
          35.81612186173421,
          0.001400091363531182,
          0.000562243983017431,
          0.015849137880501837,
          0.0007672727712127475,
          100,
          0.00006065147222556502,
          0.07755804662804501,
          0.0010634416035785992,
          0.01108480119340644,
          0.007685740171731463,
          0.00022997334607650173,
          0.016571450182392256,
          0.0010335617329756456,
          0.0018289425161243005,
          0,
          0.00000655091290901935,
          0.00007472923231197697,
          0.0002354306837878028,
          0.00016826917364291347,
          0.0025330168019267,
          0.000006123493972583649,
          0.00009927164302746978,
          0.0004431025090672084,
          0.00010361436502494204,
          0,
          0,
          0.44104868257912416,
          69.80147745773432,
          0.004851548462690836,
          0.000014722982276841714,
          0.00018038396985123784,
          0.00014565478781157837,
          0.00006283938584370222,
          0.000008713330563531291,
          0,
          0.0004848492032030678,
          0.000014854497234083303,
          0.0007181139722300004,
          0.000004323472903973851,
          0.00005244261587625257,
          0.00001683407775496449,
          0.00003426674517522773,
          0.00009248314735507376,
          16.8666024846127,
          2.420184554095631,
          33.14168112455057,
          0.028625564355994754,
          0,
          0,
          9.743658762952165,
          0.004265781864422425,
          0.003088731888360987,
          0.025016929205697053,
          0.0008752502155965126,
          0.0012642571164369501,
          0
         ],
         "yaxis": "y"
        }
       ],
       "layout": {
        "template": {
         "data": {
          "bar": [
           {
            "error_x": {
             "color": "#2a3f5f"
            },
            "error_y": {
             "color": "#2a3f5f"
            },
            "marker": {
             "line": {
              "color": "#E5ECF6",
              "width": 0.5
             },
             "pattern": {
              "fillmode": "overlay",
              "size": 10,
              "solidity": 0.2
             }
            },
            "type": "bar"
           }
          ],
          "barpolar": [
           {
            "marker": {
             "line": {
              "color": "#E5ECF6",
              "width": 0.5
             },
             "pattern": {
              "fillmode": "overlay",
              "size": 10,
              "solidity": 0.2
             }
            },
            "type": "barpolar"
           }
          ],
          "carpet": [
           {
            "aaxis": {
             "endlinecolor": "#2a3f5f",
             "gridcolor": "white",
             "linecolor": "white",
             "minorgridcolor": "white",
             "startlinecolor": "#2a3f5f"
            },
            "baxis": {
             "endlinecolor": "#2a3f5f",
             "gridcolor": "white",
             "linecolor": "white",
             "minorgridcolor": "white",
             "startlinecolor": "#2a3f5f"
            },
            "type": "carpet"
           }
          ],
          "choropleth": [
           {
            "colorbar": {
             "outlinewidth": 0,
             "ticks": ""
            },
            "type": "choropleth"
           }
          ],
          "contour": [
           {
            "colorbar": {
             "outlinewidth": 0,
             "ticks": ""
            },
            "colorscale": [
             [
              0,
              "#0d0887"
             ],
             [
              0.1111111111111111,
              "#46039f"
             ],
             [
              0.2222222222222222,
              "#7201a8"
             ],
             [
              0.3333333333333333,
              "#9c179e"
             ],
             [
              0.4444444444444444,
              "#bd3786"
             ],
             [
              0.5555555555555556,
              "#d8576b"
             ],
             [
              0.6666666666666666,
              "#ed7953"
             ],
             [
              0.7777777777777778,
              "#fb9f3a"
             ],
             [
              0.8888888888888888,
              "#fdca26"
             ],
             [
              1,
              "#f0f921"
             ]
            ],
            "type": "contour"
           }
          ],
          "contourcarpet": [
           {
            "colorbar": {
             "outlinewidth": 0,
             "ticks": ""
            },
            "type": "contourcarpet"
           }
          ],
          "heatmap": [
           {
            "colorbar": {
             "outlinewidth": 0,
             "ticks": ""
            },
            "colorscale": [
             [
              0,
              "#0d0887"
             ],
             [
              0.1111111111111111,
              "#46039f"
             ],
             [
              0.2222222222222222,
              "#7201a8"
             ],
             [
              0.3333333333333333,
              "#9c179e"
             ],
             [
              0.4444444444444444,
              "#bd3786"
             ],
             [
              0.5555555555555556,
              "#d8576b"
             ],
             [
              0.6666666666666666,
              "#ed7953"
             ],
             [
              0.7777777777777778,
              "#fb9f3a"
             ],
             [
              0.8888888888888888,
              "#fdca26"
             ],
             [
              1,
              "#f0f921"
             ]
            ],
            "type": "heatmap"
           }
          ],
          "heatmapgl": [
           {
            "colorbar": {
             "outlinewidth": 0,
             "ticks": ""
            },
            "colorscale": [
             [
              0,
              "#0d0887"
             ],
             [
              0.1111111111111111,
              "#46039f"
             ],
             [
              0.2222222222222222,
              "#7201a8"
             ],
             [
              0.3333333333333333,
              "#9c179e"
             ],
             [
              0.4444444444444444,
              "#bd3786"
             ],
             [
              0.5555555555555556,
              "#d8576b"
             ],
             [
              0.6666666666666666,
              "#ed7953"
             ],
             [
              0.7777777777777778,
              "#fb9f3a"
             ],
             [
              0.8888888888888888,
              "#fdca26"
             ],
             [
              1,
              "#f0f921"
             ]
            ],
            "type": "heatmapgl"
           }
          ],
          "histogram": [
           {
            "marker": {
             "pattern": {
              "fillmode": "overlay",
              "size": 10,
              "solidity": 0.2
             }
            },
            "type": "histogram"
           }
          ],
          "histogram2d": [
           {
            "colorbar": {
             "outlinewidth": 0,
             "ticks": ""
            },
            "colorscale": [
             [
              0,
              "#0d0887"
             ],
             [
              0.1111111111111111,
              "#46039f"
             ],
             [
              0.2222222222222222,
              "#7201a8"
             ],
             [
              0.3333333333333333,
              "#9c179e"
             ],
             [
              0.4444444444444444,
              "#bd3786"
             ],
             [
              0.5555555555555556,
              "#d8576b"
             ],
             [
              0.6666666666666666,
              "#ed7953"
             ],
             [
              0.7777777777777778,
              "#fb9f3a"
             ],
             [
              0.8888888888888888,
              "#fdca26"
             ],
             [
              1,
              "#f0f921"
             ]
            ],
            "type": "histogram2d"
           }
          ],
          "histogram2dcontour": [
           {
            "colorbar": {
             "outlinewidth": 0,
             "ticks": ""
            },
            "colorscale": [
             [
              0,
              "#0d0887"
             ],
             [
              0.1111111111111111,
              "#46039f"
             ],
             [
              0.2222222222222222,
              "#7201a8"
             ],
             [
              0.3333333333333333,
              "#9c179e"
             ],
             [
              0.4444444444444444,
              "#bd3786"
             ],
             [
              0.5555555555555556,
              "#d8576b"
             ],
             [
              0.6666666666666666,
              "#ed7953"
             ],
             [
              0.7777777777777778,
              "#fb9f3a"
             ],
             [
              0.8888888888888888,
              "#fdca26"
             ],
             [
              1,
              "#f0f921"
             ]
            ],
            "type": "histogram2dcontour"
           }
          ],
          "mesh3d": [
           {
            "colorbar": {
             "outlinewidth": 0,
             "ticks": ""
            },
            "type": "mesh3d"
           }
          ],
          "parcoords": [
           {
            "line": {
             "colorbar": {
              "outlinewidth": 0,
              "ticks": ""
             }
            },
            "type": "parcoords"
           }
          ],
          "pie": [
           {
            "automargin": true,
            "type": "pie"
           }
          ],
          "scatter": [
           {
            "marker": {
             "colorbar": {
              "outlinewidth": 0,
              "ticks": ""
             }
            },
            "type": "scatter"
           }
          ],
          "scatter3d": [
           {
            "line": {
             "colorbar": {
              "outlinewidth": 0,
              "ticks": ""
             }
            },
            "marker": {
             "colorbar": {
              "outlinewidth": 0,
              "ticks": ""
             }
            },
            "type": "scatter3d"
           }
          ],
          "scattercarpet": [
           {
            "marker": {
             "colorbar": {
              "outlinewidth": 0,
              "ticks": ""
             }
            },
            "type": "scattercarpet"
           }
          ],
          "scattergeo": [
           {
            "marker": {
             "colorbar": {
              "outlinewidth": 0,
              "ticks": ""
             }
            },
            "type": "scattergeo"
           }
          ],
          "scattergl": [
           {
            "marker": {
             "colorbar": {
              "outlinewidth": 0,
              "ticks": ""
             }
            },
            "type": "scattergl"
           }
          ],
          "scattermapbox": [
           {
            "marker": {
             "colorbar": {
              "outlinewidth": 0,
              "ticks": ""
             }
            },
            "type": "scattermapbox"
           }
          ],
          "scatterpolar": [
           {
            "marker": {
             "colorbar": {
              "outlinewidth": 0,
              "ticks": ""
             }
            },
            "type": "scatterpolar"
           }
          ],
          "scatterpolargl": [
           {
            "marker": {
             "colorbar": {
              "outlinewidth": 0,
              "ticks": ""
             }
            },
            "type": "scatterpolargl"
           }
          ],
          "scatterternary": [
           {
            "marker": {
             "colorbar": {
              "outlinewidth": 0,
              "ticks": ""
             }
            },
            "type": "scatterternary"
           }
          ],
          "surface": [
           {
            "colorbar": {
             "outlinewidth": 0,
             "ticks": ""
            },
            "colorscale": [
             [
              0,
              "#0d0887"
             ],
             [
              0.1111111111111111,
              "#46039f"
             ],
             [
              0.2222222222222222,
              "#7201a8"
             ],
             [
              0.3333333333333333,
              "#9c179e"
             ],
             [
              0.4444444444444444,
              "#bd3786"
             ],
             [
              0.5555555555555556,
              "#d8576b"
             ],
             [
              0.6666666666666666,
              "#ed7953"
             ],
             [
              0.7777777777777778,
              "#fb9f3a"
             ],
             [
              0.8888888888888888,
              "#fdca26"
             ],
             [
              1,
              "#f0f921"
             ]
            ],
            "type": "surface"
           }
          ],
          "table": [
           {
            "cells": {
             "fill": {
              "color": "#EBF0F8"
             },
             "line": {
              "color": "white"
             }
            },
            "header": {
             "fill": {
              "color": "#C8D4E3"
             },
             "line": {
              "color": "white"
             }
            },
            "type": "table"
           }
          ]
         },
         "layout": {
          "annotationdefaults": {
           "arrowcolor": "#2a3f5f",
           "arrowhead": 0,
           "arrowwidth": 1
          },
          "autotypenumbers": "strict",
          "coloraxis": {
           "colorbar": {
            "outlinewidth": 0,
            "ticks": ""
           }
          },
          "colorscale": {
           "diverging": [
            [
             0,
             "#8e0152"
            ],
            [
             0.1,
             "#c51b7d"
            ],
            [
             0.2,
             "#de77ae"
            ],
            [
             0.3,
             "#f1b6da"
            ],
            [
             0.4,
             "#fde0ef"
            ],
            [
             0.5,
             "#f7f7f7"
            ],
            [
             0.6,
             "#e6f5d0"
            ],
            [
             0.7,
             "#b8e186"
            ],
            [
             0.8,
             "#7fbc41"
            ],
            [
             0.9,
             "#4d9221"
            ],
            [
             1,
             "#276419"
            ]
           ],
           "sequential": [
            [
             0,
             "#0d0887"
            ],
            [
             0.1111111111111111,
             "#46039f"
            ],
            [
             0.2222222222222222,
             "#7201a8"
            ],
            [
             0.3333333333333333,
             "#9c179e"
            ],
            [
             0.4444444444444444,
             "#bd3786"
            ],
            [
             0.5555555555555556,
             "#d8576b"
            ],
            [
             0.6666666666666666,
             "#ed7953"
            ],
            [
             0.7777777777777778,
             "#fb9f3a"
            ],
            [
             0.8888888888888888,
             "#fdca26"
            ],
            [
             1,
             "#f0f921"
            ]
           ],
           "sequentialminus": [
            [
             0,
             "#0d0887"
            ],
            [
             0.1111111111111111,
             "#46039f"
            ],
            [
             0.2222222222222222,
             "#7201a8"
            ],
            [
             0.3333333333333333,
             "#9c179e"
            ],
            [
             0.4444444444444444,
             "#bd3786"
            ],
            [
             0.5555555555555556,
             "#d8576b"
            ],
            [
             0.6666666666666666,
             "#ed7953"
            ],
            [
             0.7777777777777778,
             "#fb9f3a"
            ],
            [
             0.8888888888888888,
             "#fdca26"
            ],
            [
             1,
             "#f0f921"
            ]
           ]
          },
          "colorway": [
           "#636efa",
           "#EF553B",
           "#00cc96",
           "#ab63fa",
           "#FFA15A",
           "#19d3f3",
           "#FF6692",
           "#B6E880",
           "#FF97FF",
           "#FECB52"
          ],
          "font": {
           "color": "#2a3f5f"
          },
          "geo": {
           "bgcolor": "white",
           "lakecolor": "white",
           "landcolor": "#E5ECF6",
           "showlakes": true,
           "showland": true,
           "subunitcolor": "white"
          },
          "hoverlabel": {
           "align": "left"
          },
          "hovermode": "closest",
          "mapbox": {
           "style": "light"
          },
          "paper_bgcolor": "white",
          "plot_bgcolor": "#E5ECF6",
          "polar": {
           "angularaxis": {
            "gridcolor": "white",
            "linecolor": "white",
            "ticks": ""
           },
           "bgcolor": "#E5ECF6",
           "radialaxis": {
            "gridcolor": "white",
            "linecolor": "white",
            "ticks": ""
           }
          },
          "scene": {
           "xaxis": {
            "backgroundcolor": "#E5ECF6",
            "gridcolor": "white",
            "gridwidth": 2,
            "linecolor": "white",
            "showbackground": true,
            "ticks": "",
            "zerolinecolor": "white"
           },
           "yaxis": {
            "backgroundcolor": "#E5ECF6",
            "gridcolor": "white",
            "gridwidth": 2,
            "linecolor": "white",
            "showbackground": true,
            "ticks": "",
            "zerolinecolor": "white"
           },
           "zaxis": {
            "backgroundcolor": "#E5ECF6",
            "gridcolor": "white",
            "gridwidth": 2,
            "linecolor": "white",
            "showbackground": true,
            "ticks": "",
            "zerolinecolor": "white"
           }
          },
          "shapedefaults": {
           "line": {
            "color": "#2a3f5f"
           }
          },
          "ternary": {
           "aaxis": {
            "gridcolor": "white",
            "linecolor": "white",
            "ticks": ""
           },
           "baxis": {
            "gridcolor": "white",
            "linecolor": "white",
            "ticks": ""
           },
           "bgcolor": "#E5ECF6",
           "caxis": {
            "gridcolor": "white",
            "linecolor": "white",
            "ticks": ""
           }
          },
          "title": {
           "x": 0.05
          },
          "xaxis": {
           "automargin": true,
           "gridcolor": "white",
           "linecolor": "white",
           "ticks": "",
           "title": {
            "standoff": 15
           },
           "zerolinecolor": "white",
           "zerolinewidth": 2
          },
          "yaxis": {
           "automargin": true,
           "gridcolor": "white",
           "linecolor": "white",
           "ticks": "",
           "title": {
            "standoff": 15
           },
           "zerolinecolor": "white",
           "zerolinewidth": 2
          }
         }
        },
        "title": {
         "text": "<b>Strategies 2 - TVL Velosity - Percentage of Shares </b>"
        },
        "xaxis": {
         "anchor": "y",
         "domain": [
          0,
          0.94
         ],
         "range": [
          -3,
          61
         ],
         "title": {
          "text": "Step"
         }
        },
        "yaxis": {
         "anchor": "x",
         "domain": [
          0,
          1
         ],
         "range": [
          -2,
          105
         ]
        },
        "yaxis2": {
         "anchor": "x",
         "overlaying": "y",
         "side": "right"
        }
       }
      }
     },
     "metadata": {},
     "output_type": "display_data"
    }
   ],
   "source": [
    "fig = make_subplots(subplot_titles=('' ), specs=[[{\"secondary_y\": True}]])\n",
    "\n",
    "fig.add_trace(go.Scatter(x=x, y=pr_f21, line=dict(color='red'), name='MIM'), secondary_y=False)\n",
    "fig.add_trace(go.Scatter(x=x, y=pr_f22, line=dict(color='green'), name='FRAX'), secondary_y=False)\n",
    "fig.add_trace(go.Scatter(x=x, y=pr_f23, line=dict(color='grey'), name='USDN'), secondary_y=False)\n",
    "fig.add_trace(go.Scatter(x=x, y=pr_f24, line=dict(color='blue'), name='alUSD'), secondary_y=False)\n",
    "fig.add_trace(go.Scatter(x=x, y=pr_f25, line=dict(color='brown'), name='mUSD'), secondary_y=False)\n",
    "#fig.add_trace(go.Scatter(x=x, y=pr_f26, line=dict(color='light green'), name='BUSD'), secondary_y=False)\n",
    "fig.update_layout(yaxis_range=[-2,105])\n",
    "fig.update_layout(xaxis_range=[-3,len(tvl)+1])\n",
    "fig.update_layout(title_text='<b>Strategies 2 - TVL Velosity - Percentage of Shares </b>')\n",
    "fig.update_xaxes(title_text='Step')\n",
    "fig.show()"
   ]
  }
 ],
 "metadata": {
  "kernelspec": {
   "display_name": "Python 3",
   "language": "python",
   "name": "python3"
  },
  "language_info": {
   "codemirror_mode": {
    "name": "ipython",
    "version": 3
   },
   "file_extension": ".py",
   "mimetype": "text/x-python",
   "name": "python",
   "nbconvert_exporter": "python",
   "pygments_lexer": "ipython3",
   "version": "3.7.9"
  }
 },
 "nbformat": 4,
 "nbformat_minor": 4
}
